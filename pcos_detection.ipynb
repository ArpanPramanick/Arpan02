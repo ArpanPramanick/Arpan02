{
  "nbformat": 4,
  "nbformat_minor": 0,
  "metadata": {
    "colab": {
      "provenance": []
    },
    "kernelspec": {
      "name": "python3",
      "display_name": "Python 3"
    },
    "language_info": {
      "name": "python"
    }
  },
  "cells": [
    {
      "cell_type": "code",
      "execution_count": null,
      "metadata": {
        "colab": {
          "base_uri": "https://localhost:8080/"
        },
        "id": "bGFuzfmMlOok",
        "outputId": "3ea4c23d-f41e-429a-c909-49dc8db84f38"
      },
      "outputs": [
        {
          "output_type": "stream",
          "name": "stdout",
          "text": [
            "1.70000043572e-05\n"
          ]
        }
      ],
      "source": [
        "x = \"1.70000043572e-05\"\n",
        "y = float(x)\n",
        "print(y)\n",
        "# Output: 0.0000170000043572\n",
        "\n"
      ]
    },
    {
      "cell_type": "code",
      "source": [
        "import csv\n",
        "import numpy as np\n",
        "import select  as sl\n",
        "from numpy import set_printoptions\n",
        "import pandas as pd\n",
        "import matplotlib.pyplot as plt\n",
        "import seaborn as sns\n",
        "from sklearn.metrics import confusion_matrix,classification_report,accuracy_score,roc_auc_score,roc_curve\n",
        "from sklearn.model_selection import train_test_split\n",
        "from sklearn.preprocessing import LabelEncoder\n",
        "from sklearn.preprocessing import OrdinalEncoder\n",
        "from sklearn.feature_selection import SelectKBest\n",
        "from sklearn.feature_selection import chi2\n",
        "from sklearn.feature_selection import mutual_info_classif\n",
        "from matplotlib import pyplot\n",
        "from scipy.stats import gaussian_kde\n",
        "from scipy.stats import probplot\n",
        "\n",
        "df = pd.read_excel(\"PCOS.xls\", sheet_name=1)"
      ],
      "metadata": {
        "id": "F1kGgL8RlQZ5"
      },
      "execution_count": null,
      "outputs": []
    },
    {
      "cell_type": "code",
      "source": [
        "#Converting object data type to numeric type\n",
        "df[\"AMH(ng/mL)\"] = pd.to_numeric(df[\"AMH(ng/mL)\"], errors=\"coerce\") #converting object datatype to numeric\n",
        "df[\"II    beta-HCG(mIU/mL)\"] = pd.to_numeric(df[\"II    beta-HCG(mIU/mL)\"], errors=\"coerce\") #converting object datatypeTonumeric"
      ],
      "metadata": {
        "id": "yDVvvdKBvL7H"
      },
      "execution_count": null,
      "outputs": []
    },
    {
      "cell_type": "code",
      "source": [
        "#trimming column names where there are extra spaces at start and end\n",
        "df = df.rename(columns=lambda x: x.strip())"
      ],
      "metadata": {
        "id": "RrJYqjOEvWgx"
      },
      "execution_count": null,
      "outputs": []
    },
    {
      "cell_type": "code",
      "source": [
        "#dropping axes which are not useful\n",
        "df = df.drop(['Unnamed: 44'], axis = 1) #dropping not useful axis\n",
        "df = df.drop(['Sl. No'], axis = 1) #dropping not useful axis\n",
        "df = df.drop(['Patient File No.'], axis = 1) #dropping not useful axis"
      ],
      "metadata": {
        "id": "l7ReoqX8vhII"
      },
      "execution_count": null,
      "outputs": []
    },
    {
      "cell_type": "code",
      "source": [
        "#column names with missing data\n",
        "lst_missing_columns = df.columns[df.isna().any()].tolist()\n",
        "lst_missing_columns"
      ],
      "metadata": {
        "colab": {
          "base_uri": "https://localhost:8080/"
        },
        "id": "Ia2WaOPBvkCu",
        "outputId": "303e5eb2-ccf0-4a30-cfa5-fbe66e89538d"
      },
      "execution_count": null,
      "outputs": [
        {
          "output_type": "execute_result",
          "data": {
            "text/plain": [
              "['BMI',\n",
              " 'Marraige Status (Yrs)',\n",
              " 'II    beta-HCG(mIU/mL)',\n",
              " 'Waist:Hip Ratio',\n",
              " 'AMH(ng/mL)',\n",
              " 'Fast food (Y/N)']"
            ]
          },
          "metadata": {},
          "execution_count": 6
        }
      ]
    },
    {
      "cell_type": "code",
      "source": [
        "#filling missing values with their median\n",
        "for x in lst_missing_columns:\n",
        "    df[x] = df[x].fillna(df[x].median()) #filling columns with missing value with their median"
      ],
      "metadata": {
        "id": "AyEaOgGRvmdZ"
      },
      "execution_count": null,
      "outputs": []
    },
    {
      "cell_type": "code",
      "source": [
        "df.rename(columns={' Age (yrs)': 'Age'}, inplace=True)\n",
        "df.rename(columns={' Age (yrs)': ' Age (yrs)'}, inplace=True)\n",
        "df.rename(columns={'PCOS (Y/N)': 'PCOS'}, inplace=True)"
      ],
      "metadata": {
        "id": "TjUxnVnivpP3"
      },
      "execution_count": null,
      "outputs": []
    },
    {
      "cell_type": "code",
      "source": [
        "corr_features=['PCOS', 'FSH(mIU/mL)', 'Follicle No. (L)', 'TSH (mIU/L)','RBS(mg/dl)','Weight gain(Y/N)','Waist:Hip Ratio']"
      ],
      "metadata": {
        "id": "H3xkKmdgvtOc"
      },
      "execution_count": null,
      "outputs": []
    },
    {
      "cell_type": "code",
      "source": [
        "df1=df[corr_features]"
      ],
      "metadata": {
        "id": "gigPPLVyw8O1"
      },
      "execution_count": null,
      "outputs": []
    },
    {
      "cell_type": "code",
      "source": [
        "plt.figure(figsize=(6,5))\n",
        "sns.heatmap(df1.corr(), annot=True)\n",
        "plt.show()"
      ],
      "metadata": {
        "colab": {
          "base_uri": "https://localhost:8080/",
          "height": 554
        },
        "id": "0M76lclTxCjD",
        "outputId": "f0ee635e-2b03-4d8f-b1d9-1a3449bbbf7e"
      },
      "execution_count": null,
      "outputs": [
        {
          "output_type": "display_data",
          "data": {
            "text/plain": [
              "<Figure size 600x500 with 2 Axes>"
            ],
            "image/png": "[encoded data removed]"
          },
          "metadata": {}
        }
      ]
    },
    {
      "cell_type": "code",
      "source": [
        "df1.PCOS.value_counts()\n",
        "target_name = 'PCOS'\n",
        "y= df1[target_name]\n",
        "X= df1.drop(target_name, axis=1)\n",
        "print(X)\n",
        "type(df1)"
      ],
      "metadata": {
        "colab": {
          "base_uri": "https://localhost:8080/"
        },
        "id": "YqafSQC4xFSf",
        "outputId": "5c63b2fc-84d6-46a0-faa3-1ca145f9976e"
      },
      "execution_count": null,
      "outputs": [
        {
          "output_type": "stream",
          "name": "stdout",
          "text": [
            "     FSH(mIU/mL)  Follicle No. (L)  TSH (mIU/L)  RBS(mg/dl)  Weight gain(Y/N)  \\\n",
            "0           7.95                 3         0.68        92.0                 0   \n",
            "1           6.73                 3         3.16        92.0                 0   \n",
            "2           5.54                13         2.54        84.0                 0   \n",
            "3           8.06                 2        16.41        76.0                 0   \n",
            "4           3.98                 3         3.57        84.0                 0   \n",
            "..           ...               ...          ...         ...               ...   \n",
            "536        10.06                 1         1.11        92.0                 0   \n",
            "537         5.07                 9         2.05       108.0                 1   \n",
            "538        11.96                 1         2.87        92.0                 0   \n",
            "539         4.40                 7         2.50       115.0                 0   \n",
            "540         3.99                 9         1.66       108.0                 1   \n",
            "\n",
            "     Waist:Hip Ratio  \n",
            "0              0.842  \n",
            "1              0.842  \n",
            "2              0.842  \n",
            "3              0.842  \n",
            "4              0.842  \n",
            "..               ...  \n",
            "536            0.842  \n",
            "537            0.842  \n",
            "538            0.842  \n",
            "539            0.842  \n",
            "540            0.842  \n",
            "\n",
            "[541 rows x 6 columns]\n"
          ]
        },
        {
          "output_type": "execute_result",
          "data": {
            "text/plain": [
              "pandas.core.frame.DataFrame"
            ]
          },
          "metadata": {},
          "execution_count": 12
        }
      ]
    },
    {
      "cell_type": "code",
      "source": [
        "for i in range (0, len(df1)):\n",
        " df1.loc[i,\"PCOS\"]=y[i]\n",
        "\n",
        "print(df1.head())\n",
        "df1.columns"
      ],
      "metadata": {
        "colab": {
          "base_uri": "https://localhost:8080/"
        },
        "id": "Vjw5IoqAxy4a",
        "outputId": "093e6fb1-a059-471a-a12a-ccbd57530fe8"
      },
      "execution_count": null,
      "outputs": [
        {
          "output_type": "stream",
          "name": "stdout",
          "text": [
            "   PCOS  FSH(mIU/mL)  Follicle No. (L)  TSH (mIU/L)  RBS(mg/dl)  \\\n",
            "0     0         7.95                 3         0.68        92.0   \n",
            "1     0         6.73                 3         3.16        92.0   \n",
            "2     1         5.54                13         2.54        84.0   \n",
            "3     0         8.06                 2        16.41        76.0   \n",
            "4     0         3.98                 3         3.57        84.0   \n",
            "\n",
            "   Weight gain(Y/N)  Waist:Hip Ratio  \n",
            "0                 0            0.842  \n",
            "1                 0            0.842  \n",
            "2                 0            0.842  \n",
            "3                 0            0.842  \n",
            "4                 0            0.842  \n"
          ]
        },
        {
          "output_type": "execute_result",
          "data": {
            "text/plain": [
              "Index(['PCOS', 'FSH(mIU/mL)', 'Follicle No. (L)', 'TSH (mIU/L)', 'RBS(mg/dl)',\n",
              "       'Weight gain(Y/N)', 'Waist:Hip Ratio'],\n",
              "      dtype='object')"
            ]
          },
          "metadata": {},
          "execution_count": 13
        }
      ]
    },
    {
      "cell_type": "code",
      "source": [
        "from sklearn.model_selection import train_test_split\n",
        "# split into train and test sets\n",
        "X_train, X_test, y_train, y_test = train_test_split(X, y, test_size=0.33, random_state=1)\n",
        "# summarize\n",
        "print('Train', X_train.shape, y_train.shape)\n",
        "print('Test', X_test.shape, y_test.shape)"
      ],
      "metadata": {
        "colab": {
          "base_uri": "https://localhost:8080/"
        },
        "id": "EXeHfCMnx2LJ",
        "outputId": "59ffb305-e500-4fa4-8b04-23c9aef4fb8b"
      },
      "execution_count": null,
      "outputs": [
        {
          "output_type": "stream",
          "name": "stdout",
          "text": [
            "Train (362, 6) (362,)\n",
            "Test (179, 6) (179,)\n"
          ]
        }
      ]
    },
    {
      "cell_type": "code",
      "source": [
        "cols = df1.columns\n",
        "\n",
        "df1[cols] = df1[cols].apply(pd.to_numeric, errors='coerce')\n",
        "print(df1.dtypes)"
      ],
      "metadata": {
        "colab": {
          "base_uri": "https://localhost:8080/"
        },
        "id": "Ejp4_AMKx5iK",
        "outputId": "18356e8f-09ef-4a3b-aea6-7e73dc23e32d"
      },
      "execution_count": null,
      "outputs": [
        {
          "output_type": "stream",
          "name": "stdout",
          "text": [
            "PCOS                  int64\n",
            "FSH(mIU/mL)         float64\n",
            "Follicle No. (L)      int64\n",
            "TSH (mIU/L)         float64\n",
            "RBS(mg/dl)          float64\n",
            "Weight gain(Y/N)      int64\n",
            "Waist:Hip Ratio     float64\n",
            "dtype: object\n"
          ]
        },
        {
          "output_type": "stream",
          "name": "stderr",
          "text": [
            "<ipython-input-15-f202cba91ee8>:3: SettingWithCopyWarning: \n",
            "A value is trying to be set on a copy of a slice from a DataFrame.\n",
            "Try using .loc[row_indexer,col_indexer] = value instead\n",
            "\n",
            "See the caveats in the documentation: https://pandas.pydata.org/pandas-docs/stable/user_guide/indexing.html#returning-a-view-versus-a-copy\n",
            "  df1[cols] = df1[cols].apply(pd.to_numeric, errors='coerce')\n"
          ]
        }
      ]
    },
    {
      "cell_type": "code",
      "source": [
        "X.head(5)\n",
        "# y.head(5)"
      ],
      "metadata": {
        "colab": {
          "base_uri": "https://localhost:8080/",
          "height": 206
        },
        "id": "z6Nx0QJXx-iY",
        "outputId": "d058516b-6b71-420f-d51c-455eff0761c4"
      },
      "execution_count": null,
      "outputs": [
        {
          "output_type": "execute_result",
          "data": {
            "text/plain": [
              "   FSH(mIU/mL)  Follicle No. (L)  TSH (mIU/L)  RBS(mg/dl)  Weight gain(Y/N)  \\\n",
              "0         7.95                 3         0.68        92.0                 0   \n",
              "1         6.73                 3         3.16        92.0                 0   \n",
              "2         5.54                13         2.54        84.0                 0   \n",
              "3         8.06                 2        16.41        76.0                 0   \n",
              "4         3.98                 3         3.57        84.0                 0   \n",
              "\n",
              "   Waist:Hip Ratio  \n",
              "0            0.842  \n",
              "1            0.842  \n",
              "2            0.842  \n",
              "3            0.842  \n",
              "4            0.842  "
            ],
            "text/html": [
              "\n",
              "\n",
              "  <div id=\"df-7b87b9c2-64a5-46fc-b141-29fd20597226\">\n",
              "    <div class=\"colab-df-container\">\n",
              "      <div>\n",
              "<style scoped>\n",
              "    .dataframe tbody tr th:only-of-type {\n",
              "        vertical-align: middle;\n",
              "    }\n",
              "\n",
              "    .dataframe tbody tr th {\n",
              "        vertical-align: top;\n",
              "    }\n",
              "\n",
              "    .dataframe thead th {\n",
              "        text-align: right;\n",
              "    }\n",
              "</style>\n",
              "<table border=\"1\" class=\"dataframe\">\n",
              "  <thead>\n",
              "    <tr style=\"text-align: right;\">\n",
              "      <th></th>\n",
              "      <th>FSH(mIU/mL)</th>\n",
              "      <th>Follicle No. (L)</th>\n",
              "      <th>TSH (mIU/L)</th>\n",
              "      <th>RBS(mg/dl)</th>\n",
              "      <th>Weight gain(Y/N)</th>\n",
              "      <th>Waist:Hip Ratio</th>\n",
              "    </tr>\n",
              "  </thead>\n",
              "  <tbody>\n",
              "    <tr>\n",
              "      <th>0</th>\n",
              "      <td>7.95</td>\n",
              "      <td>3</td>\n",
              "      <td>0.68</td>\n",
              "      <td>92.0</td>\n",
              "      <td>0</td>\n",
              "      <td>0.842</td>\n",
              "    </tr>\n",
              "    <tr>\n",
              "      <th>1</th>\n",
              "      <td>6.73</td>\n",
              "      <td>3</td>\n",
              "      <td>3.16</td>\n",
              "      <td>92.0</td>\n",
              "      <td>0</td>\n",
              "      <td>0.842</td>\n",
              "    </tr>\n",
              "    <tr>\n",
              "      <th>2</th>\n",
              "      <td>5.54</td>\n",
              "      <td>13</td>\n",
              "      <td>2.54</td>\n",
              "      <td>84.0</td>\n",
              "      <td>0</td>\n",
              "      <td>0.842</td>\n",
              "    </tr>\n",
              "    <tr>\n",
              "      <th>3</th>\n",
              "      <td>8.06</td>\n",
              "      <td>2</td>\n",
              "      <td>16.41</td>\n",
              "      <td>76.0</td>\n",
              "      <td>0</td>\n",
              "      <td>0.842</td>\n",
              "    </tr>\n",
              "    <tr>\n",
              "      <th>4</th>\n",
              "      <td>3.98</td>\n",
              "      <td>3</td>\n",
              "      <td>3.57</td>\n",
              "      <td>84.0</td>\n",
              "      <td>0</td>\n",
              "      <td>0.842</td>\n",
              "    </tr>\n",
              "  </tbody>\n",
              "</table>\n",
              "</div>\n",
              "      <button class=\"colab-df-convert\" onclick=\"convertToInteractive('df-7b87b9c2-64a5-46fc-b141-29fd20597226')\"\n",
              "              title=\"Convert this dataframe to an interactive table.\"\n",
              "              style=\"display:none;\">\n",
              "\n",
              "  <svg xmlns=\"http://www.w3.org/2000/svg\" height=\"24px\"viewBox=\"0 0 24 24\"\n",
              "       width=\"24px\">\n",
              "    <path d=\"M0 0h24v24H0V0z\" fill=\"none\"/>\n",
              "    <path d=\"M18.56 5.44l.94 2.06.94-2.06 2.06-.94-2.06-.94-.94-2.06-.94 2.06-2.06.94zm-11 1L8.5 8.5l.94-2.06 2.06-.94-2.06-.94L8.5 2.5l-.94 2.06-2.06.94zm10 10l.94 2.06.94-2.06 2.06-.94-2.06-.94-.94-2.06-.94 2.06-2.06.94z\"/><path d=\"M17.41 7.96l-1.37-1.37c-.4-.4-.92-.59-1.43-.59-.52 0-1.04.2-1.43.59L10.3 9.45l-7.72 7.72c-.78.78-.78 2.05 0 2.83L4 21.41c.39.39.9.59 1.41.59.51 0 1.02-.2 1.41-.59l7.78-7.78 2.81-2.81c.8-.78.8-2.07 0-2.86zM5.41 20L4 18.59l7.72-7.72 1.47 1.35L5.41 20z\"/>\n",
              "  </svg>\n",
              "      </button>\n",
              "\n",
              "\n",
              "\n",
              "    <div id=\"df-bb15cbd1-012e-4a67-aef1-76235b473a01\">\n",
              "      <button class=\"colab-df-quickchart\" onclick=\"quickchart('df-bb15cbd1-012e-4a67-aef1-76235b473a01')\"\n",
              "              title=\"Suggest charts.\"\n",
              "              style=\"display:none;\">\n",
              "\n",
              "<svg xmlns=\"http://www.w3.org/2000/svg\" height=\"24px\"viewBox=\"0 0 24 24\"\n",
              "     width=\"24px\">\n",
              "    <g>\n",
              "        <path d=\"M19 3H5c-1.1 0-2 .9-2 2v14c0 1.1.9 2 2 2h14c1.1 0 2-.9 2-2V5c0-1.1-.9-2-2-2zM9 17H7v-7h2v7zm4 0h-2V7h2v10zm4 0h-2v-4h2v4z\"/>\n",
              "    </g>\n",
              "</svg>\n",
              "      </button>\n",
              "    </div>\n",
              "\n",
              "<style>\n",
              "  .colab-df-quickchart {\n",
              "    background-color: #E8F0FE;\n",
              "    border: none;\n",
              "    border-radius: 50%;\n",
              "    cursor: pointer;\n",
              "    display: none;\n",
              "    fill: #1967D2;\n",
              "    height: 32px;\n",
              "    padding: 0 0 0 0;\n",
              "    width: 32px;\n",
              "  }\n",
              "\n",
              "  .colab-df-quickchart:hover {\n",
              "    background-color: #E2EBFA;\n",
              "    box-shadow: 0px 1px 2px rgba(60, 64, 67, 0.3), 0px 1px 3px 1px rgba(60, 64, 67, 0.15);\n",
              "    fill: #174EA6;\n",
              "  }\n",
              "\n",
              "  [theme=dark] .colab-df-quickchart {\n",
              "    background-color: #3B4455;\n",
              "    fill: #D2E3FC;\n",
              "  }\n",
              "\n",
              "  [theme=dark] .colab-df-quickchart:hover {\n",
              "    background-color: #434B5C;\n",
              "    box-shadow: 0px 1px 3px 1px rgba(0, 0, 0, 0.15);\n",
              "    filter: drop-shadow(0px 1px 2px rgba(0, 0, 0, 0.3));\n",
              "    fill: #FFFFFF;\n",
              "  }\n",
              "</style>\n",
              "\n",
              "    <script>\n",
              "      async function quickchart(key) {\n",
              "        const containerElement = document.querySelector('#' + key);\n",
              "        const charts = await google.colab.kernel.invokeFunction(\n",
              "            'suggestCharts', [key], {});\n",
              "      }\n",
              "    </script>\n",
              "\n",
              "      <script>\n",
              "\n",
              "function displayQuickchartButton(domScope) {\n",
              "  let quickchartButtonEl =\n",
              "    domScope.querySelector('#df-bb15cbd1-012e-4a67-aef1-76235b473a01 button.colab-df-quickchart');\n",
              "  quickchartButtonEl.style.display =\n",
              "    google.colab.kernel.accessAllowed ? 'block' : 'none';\n",
              "}\n",
              "\n",
              "        displayQuickchartButton(document);\n",
              "      </script>\n",
              "      <style>\n",
              "    .colab-df-container {\n",
              "      display:flex;\n",
              "      flex-wrap:wrap;\n",
              "      gap: 12px;\n",
              "    }\n",
              "\n",
              "    .colab-df-convert {\n",
              "      background-color: #E8F0FE;\n",
              "      border: none;\n",
              "      border-radius: 50%;\n",
              "      cursor: pointer;\n",
              "      display: none;\n",
              "      fill: #1967D2;\n",
              "      height: 32px;\n",
              "      padding: 0 0 0 0;\n",
              "      width: 32px;\n",
              "    }\n",
              "\n",
              "    .colab-df-convert:hover {\n",
              "      background-color: #E2EBFA;\n",
              "      box-shadow: 0px 1px 2px rgba(60, 64, 67, 0.3), 0px 1px 3px 1px rgba(60, 64, 67, 0.15);\n",
              "      fill: #174EA6;\n",
              "    }\n",
              "\n",
              "    [theme=dark] .colab-df-convert {\n",
              "      background-color: #3B4455;\n",
              "      fill: #D2E3FC;\n",
              "    }\n",
              "\n",
              "    [theme=dark] .colab-df-convert:hover {\n",
              "      background-color: #434B5C;\n",
              "      box-shadow: 0px 1px 3px 1px rgba(0, 0, 0, 0.15);\n",
              "      filter: drop-shadow(0px 1px 2px rgba(0, 0, 0, 0.3));\n",
              "      fill: #FFFFFF;\n",
              "    }\n",
              "  </style>\n",
              "\n",
              "      <script>\n",
              "        const buttonEl =\n",
              "          document.querySelector('#df-7b87b9c2-64a5-46fc-b141-29fd20597226 button.colab-df-convert');\n",
              "        buttonEl.style.display =\n",
              "          google.colab.kernel.accessAllowed ? 'block' : 'none';\n",
              "\n",
              "        async function convertToInteractive(key) {\n",
              "          const element = document.querySelector('#df-7b87b9c2-64a5-46fc-b141-29fd20597226');\n",
              "          const dataTable =\n",
              "            await google.colab.kernel.invokeFunction('convertToInteractive',\n",
              "                                                     [key], {});\n",
              "          if (!dataTable) return;\n",
              "\n",
              "          const docLinkHtml = 'Like what you see? Visit the ' +\n",
              "            '<a target=\"_blank\" href=https://colab.research.google.com/notebooks/data_table.ipynb>data table notebook</a>'\n",
              "            + ' to learn more about interactive tables.';\n",
              "          element.innerHTML = '';\n",
              "          dataTable['output_type'] = 'display_data';\n",
              "          await google.colab.output.renderOutput(dataTable, element);\n",
              "          const docLink = document.createElement('div');\n",
              "          docLink.innerHTML = docLinkHtml;\n",
              "          element.appendChild(docLink);\n",
              "        }\n",
              "      </script>\n",
              "    </div>\n",
              "  </div>\n"
            ]
          },
          "metadata": {},
          "execution_count": 17
        }
      ]
    },
    {
      "cell_type": "code",
      "source": [
        "y.head(5)"
      ],
      "metadata": {
        "colab": {
          "base_uri": "https://localhost:8080/"
        },
        "id": "A9ycOZcayM91",
        "outputId": "912ca97c-7ad7-4e53-b49a-f3284bfd71ce"
      },
      "execution_count": null,
      "outputs": [
        {
          "output_type": "execute_result",
          "data": {
            "text/plain": [
              "0    0\n",
              "1    0\n",
              "2    1\n",
              "3    0\n",
              "4    0\n",
              "Name: PCOS, dtype: int64"
            ]
          },
          "metadata": {},
          "execution_count": 18
        }
      ]
    },
    {
      "cell_type": "code",
      "source": [
        "df2= df1[df1[\"PCOS\"] >= 1]\n",
        "print(df2)"
      ],
      "metadata": {
        "colab": {
          "base_uri": "https://localhost:8080/"
        },
        "id": "T4lgglucyWQc",
        "outputId": "6c9f8117-c23e-42ed-d3be-e9512e0cf8e9"
      },
      "execution_count": null,
      "outputs": [
        {
          "output_type": "stream",
          "name": "stdout",
          "text": [
            "     PCOS  FSH(mIU/mL)  Follicle No. (L)  TSH (mIU/L)  RBS(mg/dl)  \\\n",
            "2       1         5.54                13         2.54        84.0   \n",
            "12      1         2.00                15         6.51       125.0   \n",
            "19      1         1.89                16         2.87       100.0   \n",
            "24      1         5.34                 4         0.65       100.0   \n",
            "26      1         6.18                21         4.28       100.0   \n",
            "..    ...          ...               ...          ...         ...   \n",
            "520     1         4.56                18         0.86       100.0   \n",
            "523     1         5.71                 6         2.11       110.0   \n",
            "524     1         4.30                 9         3.65       107.0   \n",
            "533     1         3.71                 8         1.40       100.0   \n",
            "540     1         3.99                 9         1.66       108.0   \n",
            "\n",
            "     Weight gain(Y/N)  Waist:Hip Ratio  \n",
            "2                   0            0.842  \n",
            "12                  1            0.842  \n",
            "19                  0            0.842  \n",
            "24                  0            0.842  \n",
            "26                  1            0.842  \n",
            "..                ...              ...  \n",
            "520                 0            0.842  \n",
            "523                 1            0.842  \n",
            "524                 1            0.842  \n",
            "533                 0            0.842  \n",
            "540                 1            0.842  \n",
            "\n",
            "[177 rows x 7 columns]\n"
          ]
        }
      ]
    },
    {
      "cell_type": "code",
      "source": [
        "df3= df1[df1[\"PCOS\"] < 1]\n",
        "print(df3)"
      ],
      "metadata": {
        "colab": {
          "base_uri": "https://localhost:8080/"
        },
        "id": "nKjjTGrdyh9S",
        "outputId": "6198362f-c697-4724-e43c-84d4f3c25650"
      },
      "execution_count": null,
      "outputs": [
        {
          "output_type": "stream",
          "name": "stdout",
          "text": [
            "     PCOS  FSH(mIU/mL)  Follicle No. (L)  TSH (mIU/L)  RBS(mg/dl)  \\\n",
            "0       0         7.95                 3         0.68        92.0   \n",
            "1       0         6.73                 3         3.16        92.0   \n",
            "3       0         8.06                 2        16.41        76.0   \n",
            "4       0         3.98                 3         3.57        84.0   \n",
            "5       0         3.24                 9         1.60        76.0   \n",
            "..    ...          ...               ...          ...         ...   \n",
            "535     0         7.06                 7        17.20        92.0   \n",
            "536     0        10.06                 1         1.11        92.0   \n",
            "537     0         5.07                 9         2.05       108.0   \n",
            "538     0        11.96                 1         2.87        92.0   \n",
            "539     0         4.40                 7         2.50       115.0   \n",
            "\n",
            "     Weight gain(Y/N)  Waist:Hip Ratio  \n",
            "0                   0            0.842  \n",
            "1                   0            0.842  \n",
            "3                   0            0.842  \n",
            "4                   0            0.842  \n",
            "5                   1            0.842  \n",
            "..                ...              ...  \n",
            "535                 0            0.842  \n",
            "536                 0            0.842  \n",
            "537                 1            0.842  \n",
            "538                 0            0.842  \n",
            "539                 0            0.842  \n",
            "\n",
            "[364 rows x 7 columns]\n"
          ]
        }
      ]
    },
    {
      "cell_type": "code",
      "source": [
        "from scipy import stats\n",
        "from scipy.stats import gaussian_kde"
      ],
      "metadata": {
        "id": "Z8wVIawYypZe"
      },
      "execution_count": null,
      "outputs": []
    },
    {
      "cell_type": "code",
      "source": [
        "def normal_pdf(x, mean, std_dev):\n",
        "    coefficient = 1 / (std_dev * np.sqrt(2 * np.pi))\n",
        "    exponent = -((x - mean) ** 2) / (2 * std_dev ** 2)\n",
        "    return coefficient * np.exp(exponent)"
      ],
      "metadata": {
        "id": "qAyirnRRytnJ"
      },
      "execution_count": null,
      "outputs": []
    },
    {
      "cell_type": "code",
      "source": [
        "y_train.head(10)"
      ],
      "metadata": {
        "colab": {
          "base_uri": "https://localhost:8080/"
        },
        "id": "B9qRdsfdyv5W",
        "outputId": "9ae8017e-98ee-4be7-8ce1-dc47f7c74325"
      },
      "execution_count": null,
      "outputs": [
        {
          "output_type": "execute_result",
          "data": {
            "text/plain": [
              "242    0\n",
              "95     1\n",
              "122    1\n",
              "472    1\n",
              "23     0\n",
              "164    0\n",
              "13     0\n",
              "61     1\n",
              "502    0\n",
              "507    0\n",
              "Name: PCOS, dtype: int64"
            ]
          },
          "metadata": {},
          "execution_count": 23
        }
      ]
    },
    {
      "cell_type": "code",
      "source": [
        "X_test.head(5)"
      ],
      "metadata": {
        "colab": {
          "base_uri": "https://localhost:8080/",
          "height": 206
        },
        "id": "_8rSB-keyyHh",
        "outputId": "fc6820c0-a1c4-487a-b61d-15524cf73611"
      },
      "execution_count": null,
      "outputs": [
        {
          "output_type": "execute_result",
          "data": {
            "text/plain": [
              "     FSH(mIU/mL)  Follicle No. (L)  TSH (mIU/L)  RBS(mg/dl)  Weight gain(Y/N)  \\\n",
              "499         6.50                 8         1.83       100.0                 0   \n",
              "486         7.59                16         3.58       116.0                 0   \n",
              "65          4.76                 2         2.45       100.0                 0   \n",
              "41          5.60                 8         0.93        92.0                 0   \n",
              "326         5.27                 2         3.69       100.0                 0   \n",
              "\n",
              "     Waist:Hip Ratio  \n",
              "499            0.842  \n",
              "486            0.842  \n",
              "65             0.842  \n",
              "41             0.842  \n",
              "326            0.842  "
            ],
            "text/html": [
              "\n",
              "\n",
              "  <div id=\"df-f32eb061-ad90-4dba-a5ef-c7771985ffb5\">\n",
              "    <div class=\"colab-df-container\">\n",
              "      <div>\n",
              "<style scoped>\n",
              "    .dataframe tbody tr th:only-of-type {\n",
              "        vertical-align: middle;\n",
              "    }\n",
              "\n",
              "    .dataframe tbody tr th {\n",
              "        vertical-align: top;\n",
              "    }\n",
              "\n",
              "    .dataframe thead th {\n",
              "        text-align: right;\n",
              "    }\n",
              "</style>\n",
              "<table border=\"1\" class=\"dataframe\">\n",
              "  <thead>\n",
              "    <tr style=\"text-align: right;\">\n",
              "      <th></th>\n",
              "      <th>FSH(mIU/mL)</th>\n",
              "      <th>Follicle No. (L)</th>\n",
              "      <th>TSH (mIU/L)</th>\n",
              "      <th>RBS(mg/dl)</th>\n",
              "      <th>Weight gain(Y/N)</th>\n",
              "      <th>Waist:Hip Ratio</th>\n",
              "    </tr>\n",
              "  </thead>\n",
              "  <tbody>\n",
              "    <tr>\n",
              "      <th>499</th>\n",
              "      <td>6.50</td>\n",
              "      <td>8</td>\n",
              "      <td>1.83</td>\n",
              "      <td>100.0</td>\n",
              "      <td>0</td>\n",
              "      <td>0.842</td>\n",
              "    </tr>\n",
              "    <tr>\n",
              "      <th>486</th>\n",
              "      <td>7.59</td>\n",
              "      <td>16</td>\n",
              "      <td>3.58</td>\n",
              "      <td>116.0</td>\n",
              "      <td>0</td>\n",
              "      <td>0.842</td>\n",
              "    </tr>\n",
              "    <tr>\n",
              "      <th>65</th>\n",
              "      <td>4.76</td>\n",
              "      <td>2</td>\n",
              "      <td>2.45</td>\n",
              "      <td>100.0</td>\n",
              "      <td>0</td>\n",
              "      <td>0.842</td>\n",
              "    </tr>\n",
              "    <tr>\n",
              "      <th>41</th>\n",
              "      <td>5.60</td>\n",
              "      <td>8</td>\n",
              "      <td>0.93</td>\n",
              "      <td>92.0</td>\n",
              "      <td>0</td>\n",
              "      <td>0.842</td>\n",
              "    </tr>\n",
              "    <tr>\n",
              "      <th>326</th>\n",
              "      <td>5.27</td>\n",
              "      <td>2</td>\n",
              "      <td>3.69</td>\n",
              "      <td>100.0</td>\n",
              "      <td>0</td>\n",
              "      <td>0.842</td>\n",
              "    </tr>\n",
              "  </tbody>\n",
              "</table>\n",
              "</div>\n",
              "      <button class=\"colab-df-convert\" onclick=\"convertToInteractive('df-f32eb061-ad90-4dba-a5ef-c7771985ffb5')\"\n",
              "              title=\"Convert this dataframe to an interactive table.\"\n",
              "              style=\"display:none;\">\n",
              "\n",
              "  <svg xmlns=\"http://www.w3.org/2000/svg\" height=\"24px\"viewBox=\"0 0 24 24\"\n",
              "       width=\"24px\">\n",
              "    <path d=\"M0 0h24v24H0V0z\" fill=\"none\"/>\n",
              "    <path d=\"M18.56 5.44l.94 2.06.94-2.06 2.06-.94-2.06-.94-.94-2.06-.94 2.06-2.06.94zm-11 1L8.5 8.5l.94-2.06 2.06-.94-2.06-.94L8.5 2.5l-.94 2.06-2.06.94zm10 10l.94 2.06.94-2.06 2.06-.94-2.06-.94-.94-2.06-.94 2.06-2.06.94z\"/><path d=\"M17.41 7.96l-1.37-1.37c-.4-.4-.92-.59-1.43-.59-.52 0-1.04.2-1.43.59L10.3 9.45l-7.72 7.72c-.78.78-.78 2.05 0 2.83L4 21.41c.39.39.9.59 1.41.59.51 0 1.02-.2 1.41-.59l7.78-7.78 2.81-2.81c.8-.78.8-2.07 0-2.86zM5.41 20L4 18.59l7.72-7.72 1.47 1.35L5.41 20z\"/>\n",
              "  </svg>\n",
              "      </button>\n",
              "\n",
              "\n",
              "\n",
              "    <div id=\"df-b920fb2a-1210-4de6-8466-07ce1e45e592\">\n",
              "      <button class=\"colab-df-quickchart\" onclick=\"quickchart('df-b920fb2a-1210-4de6-8466-07ce1e45e592')\"\n",
              "              title=\"Suggest charts.\"\n",
              "              style=\"display:none;\">\n",
              "\n",
              "<svg xmlns=\"http://www.w3.org/2000/svg\" height=\"24px\"viewBox=\"0 0 24 24\"\n",
              "     width=\"24px\">\n",
              "    <g>\n",
              "        <path d=\"M19 3H5c-1.1 0-2 .9-2 2v14c0 1.1.9 2 2 2h14c1.1 0 2-.9 2-2V5c0-1.1-.9-2-2-2zM9 17H7v-7h2v7zm4 0h-2V7h2v10zm4 0h-2v-4h2v4z\"/>\n",
              "    </g>\n",
              "</svg>\n",
              "      </button>\n",
              "    </div>\n",
              "\n",
              "<style>\n",
              "  .colab-df-quickchart {\n",
              "    background-color: #E8F0FE;\n",
              "    border: none;\n",
              "    border-radius: 50%;\n",
              "    cursor: pointer;\n",
              "    display: none;\n",
              "    fill: #1967D2;\n",
              "    height: 32px;\n",
              "    padding: 0 0 0 0;\n",
              "    width: 32px;\n",
              "  }\n",
              "\n",
              "  .colab-df-quickchart:hover {\n",
              "    background-color: #E2EBFA;\n",
              "    box-shadow: 0px 1px 2px rgba(60, 64, 67, 0.3), 0px 1px 3px 1px rgba(60, 64, 67, 0.15);\n",
              "    fill: #174EA6;\n",
              "  }\n",
              "\n",
              "  [theme=dark] .colab-df-quickchart {\n",
              "    background-color: #3B4455;\n",
              "    fill: #D2E3FC;\n",
              "  }\n",
              "\n",
              "  [theme=dark] .colab-df-quickchart:hover {\n",
              "    background-color: #434B5C;\n",
              "    box-shadow: 0px 1px 3px 1px rgba(0, 0, 0, 0.15);\n",
              "    filter: drop-shadow(0px 1px 2px rgba(0, 0, 0, 0.3));\n",
              "    fill: #FFFFFF;\n",
              "  }\n",
              "</style>\n",
              "\n",
              "    <script>\n",
              "      async function quickchart(key) {\n",
              "        const containerElement = document.querySelector('#' + key);\n",
              "        const charts = await google.colab.kernel.invokeFunction(\n",
              "            'suggestCharts', [key], {});\n",
              "      }\n",
              "    </script>\n",
              "\n",
              "      <script>\n",
              "\n",
              "function displayQuickchartButton(domScope) {\n",
              "  let quickchartButtonEl =\n",
              "    domScope.querySelector('#df-b920fb2a-1210-4de6-8466-07ce1e45e592 button.colab-df-quickchart');\n",
              "  quickchartButtonEl.style.display =\n",
              "    google.colab.kernel.accessAllowed ? 'block' : 'none';\n",
              "}\n",
              "\n",
              "        displayQuickchartButton(document);\n",
              "      </script>\n",
              "      <style>\n",
              "    .colab-df-container {\n",
              "      display:flex;\n",
              "      flex-wrap:wrap;\n",
              "      gap: 12px;\n",
              "    }\n",
              "\n",
              "    .colab-df-convert {\n",
              "      background-color: #E8F0FE;\n",
              "      border: none;\n",
              "      border-radius: 50%;\n",
              "      cursor: pointer;\n",
              "      display: none;\n",
              "      fill: #1967D2;\n",
              "      height: 32px;\n",
              "      padding: 0 0 0 0;\n",
              "      width: 32px;\n",
              "    }\n",
              "\n",
              "    .colab-df-convert:hover {\n",
              "      background-color: #E2EBFA;\n",
              "      box-shadow: 0px 1px 2px rgba(60, 64, 67, 0.3), 0px 1px 3px 1px rgba(60, 64, 67, 0.15);\n",
              "      fill: #174EA6;\n",
              "    }\n",
              "\n",
              "    [theme=dark] .colab-df-convert {\n",
              "      background-color: #3B4455;\n",
              "      fill: #D2E3FC;\n",
              "    }\n",
              "\n",
              "    [theme=dark] .colab-df-convert:hover {\n",
              "      background-color: #434B5C;\n",
              "      box-shadow: 0px 1px 3px 1px rgba(0, 0, 0, 0.15);\n",
              "      filter: drop-shadow(0px 1px 2px rgba(0, 0, 0, 0.3));\n",
              "      fill: #FFFFFF;\n",
              "    }\n",
              "  </style>\n",
              "\n",
              "      <script>\n",
              "        const buttonEl =\n",
              "          document.querySelector('#df-f32eb061-ad90-4dba-a5ef-c7771985ffb5 button.colab-df-convert');\n",
              "        buttonEl.style.display =\n",
              "          google.colab.kernel.accessAllowed ? 'block' : 'none';\n",
              "\n",
              "        async function convertToInteractive(key) {\n",
              "          const element = document.querySelector('#df-f32eb061-ad90-4dba-a5ef-c7771985ffb5');\n",
              "          const dataTable =\n",
              "            await google.colab.kernel.invokeFunction('convertToInteractive',\n",
              "                                                     [key], {});\n",
              "          if (!dataTable) return;\n",
              "\n",
              "          const docLinkHtml = 'Like what you see? Visit the ' +\n",
              "            '<a target=\"_blank\" href=https://colab.research.google.com/notebooks/data_table.ipynb>data table notebook</a>'\n",
              "            + ' to learn more about interactive tables.';\n",
              "          element.innerHTML = '';\n",
              "          dataTable['output_type'] = 'display_data';\n",
              "          await google.colab.output.renderOutput(dataTable, element);\n",
              "          const docLink = document.createElement('div');\n",
              "          docLink.innerHTML = docLinkHtml;\n",
              "          element.appendChild(docLink);\n",
              "        }\n",
              "      </script>\n",
              "    </div>\n",
              "  </div>\n"
            ]
          },
          "metadata": {},
          "execution_count": 24
        }
      ]
    },
    {
      "cell_type": "code",
      "source": [
        "y_test.head(5)"
      ],
      "metadata": {
        "colab": {
          "base_uri": "https://localhost:8080/"
        },
        "id": "XCkQsntEy6hy",
        "outputId": "b7b3d44a-f172-4742-f2ff-7e612a6c0a21"
      },
      "execution_count": null,
      "outputs": [
        {
          "output_type": "execute_result",
          "data": {
            "text/plain": [
              "499    0\n",
              "486    1\n",
              "65     0\n",
              "41     0\n",
              "326    0\n",
              "Name: PCOS, dtype: int64"
            ]
          },
          "metadata": {},
          "execution_count": 48
        }
      ]
    },
    {
      "cell_type": "code",
      "source": [
        "X_train.head(10)"
      ],
      "metadata": {
        "colab": {
          "base_uri": "https://localhost:8080/",
          "height": 362
        },
        "id": "NBNWEeuOy-ZH",
        "outputId": "d8fbe999-8921-48ac-bff9-736e76cec189"
      },
      "execution_count": null,
      "outputs": [
        {
          "output_type": "execute_result",
          "data": {
            "text/plain": [
              "     FSH(mIU/mL)  Follicle No. (L)  TSH (mIU/L)  RBS(mg/dl)  Weight gain(Y/N)  \\\n",
              "242         1.32                 6         2.00       113.0                 1   \n",
              "95          2.00                 6         2.78       107.0                 1   \n",
              "122         4.14                 6         2.90        92.0                 1   \n",
              "472         5.05                12         1.27        92.0                 1   \n",
              "23          6.41                 6         0.45        92.0                 0   \n",
              "164         7.72                 2         5.51       108.0                 1   \n",
              "13          4.84                 3         1.48        91.0                 0   \n",
              "61          1.46                 9         0.44       107.0                 1   \n",
              "502         6.81                 3         1.22       100.0                 0   \n",
              "507         8.06                 6         1.74       107.0                 0   \n",
              "\n",
              "     Waist:Hip Ratio  \n",
              "242            0.842  \n",
              "95             0.842  \n",
              "122            0.842  \n",
              "472            0.842  \n",
              "23             0.842  \n",
              "164            0.842  \n",
              "13             0.842  \n",
              "61             0.842  \n",
              "502            0.842  \n",
              "507            0.842  "
            ],
            "text/html": [
              "\n",
              "\n",
              "  <div id=\"df-b6c7d2a6-dc95-44b7-bbb0-e6aefcc41156\">\n",
              "    <div class=\"colab-df-container\">\n",
              "      <div>\n",
              "<style scoped>\n",
              "    .dataframe tbody tr th:only-of-type {\n",
              "        vertical-align: middle;\n",
              "    }\n",
              "\n",
              "    .dataframe tbody tr th {\n",
              "        vertical-align: top;\n",
              "    }\n",
              "\n",
              "    .dataframe thead th {\n",
              "        text-align: right;\n",
              "    }\n",
              "</style>\n",
              "<table border=\"1\" class=\"dataframe\">\n",
              "  <thead>\n",
              "    <tr style=\"text-align: right;\">\n",
              "      <th></th>\n",
              "      <th>FSH(mIU/mL)</th>\n",
              "      <th>Follicle No. (L)</th>\n",
              "      <th>TSH (mIU/L)</th>\n",
              "      <th>RBS(mg/dl)</th>\n",
              "      <th>Weight gain(Y/N)</th>\n",
              "      <th>Waist:Hip Ratio</th>\n",
              "    </tr>\n",
              "  </thead>\n",
              "  <tbody>\n",
              "    <tr>\n",
              "      <th>242</th>\n",
              "      <td>1.32</td>\n",
              "      <td>6</td>\n",
              "      <td>2.00</td>\n",
              "      <td>113.0</td>\n",
              "      <td>1</td>\n",
              "      <td>0.842</td>\n",
              "    </tr>\n",
              "    <tr>\n",
              "      <th>95</th>\n",
              "      <td>2.00</td>\n",
              "      <td>6</td>\n",
              "      <td>2.78</td>\n",
              "      <td>107.0</td>\n",
              "      <td>1</td>\n",
              "      <td>0.842</td>\n",
              "    </tr>\n",
              "    <tr>\n",
              "      <th>122</th>\n",
              "      <td>4.14</td>\n",
              "      <td>6</td>\n",
              "      <td>2.90</td>\n",
              "      <td>92.0</td>\n",
              "      <td>1</td>\n",
              "      <td>0.842</td>\n",
              "    </tr>\n",
              "    <tr>\n",
              "      <th>472</th>\n",
              "      <td>5.05</td>\n",
              "      <td>12</td>\n",
              "      <td>1.27</td>\n",
              "      <td>92.0</td>\n",
              "      <td>1</td>\n",
              "      <td>0.842</td>\n",
              "    </tr>\n",
              "    <tr>\n",
              "      <th>23</th>\n",
              "      <td>6.41</td>\n",
              "      <td>6</td>\n",
              "      <td>0.45</td>\n",
              "      <td>92.0</td>\n",
              "      <td>0</td>\n",
              "      <td>0.842</td>\n",
              "    </tr>\n",
              "    <tr>\n",
              "      <th>164</th>\n",
              "      <td>7.72</td>\n",
              "      <td>2</td>\n",
              "      <td>5.51</td>\n",
              "      <td>108.0</td>\n",
              "      <td>1</td>\n",
              "      <td>0.842</td>\n",
              "    </tr>\n",
              "    <tr>\n",
              "      <th>13</th>\n",
              "      <td>4.84</td>\n",
              "      <td>3</td>\n",
              "      <td>1.48</td>\n",
              "      <td>91.0</td>\n",
              "      <td>0</td>\n",
              "      <td>0.842</td>\n",
              "    </tr>\n",
              "    <tr>\n",
              "      <th>61</th>\n",
              "      <td>1.46</td>\n",
              "      <td>9</td>\n",
              "      <td>0.44</td>\n",
              "      <td>107.0</td>\n",
              "      <td>1</td>\n",
              "      <td>0.842</td>\n",
              "    </tr>\n",
              "    <tr>\n",
              "      <th>502</th>\n",
              "      <td>6.81</td>\n",
              "      <td>3</td>\n",
              "      <td>1.22</td>\n",
              "      <td>100.0</td>\n",
              "      <td>0</td>\n",
              "      <td>0.842</td>\n",
              "    </tr>\n",
              "    <tr>\n",
              "      <th>507</th>\n",
              "      <td>8.06</td>\n",
              "      <td>6</td>\n",
              "      <td>1.74</td>\n",
              "      <td>107.0</td>\n",
              "      <td>0</td>\n",
              "      <td>0.842</td>\n",
              "    </tr>\n",
              "  </tbody>\n",
              "</table>\n",
              "</div>\n",
              "      <button class=\"colab-df-convert\" onclick=\"convertToInteractive('df-b6c7d2a6-dc95-44b7-bbb0-e6aefcc41156')\"\n",
              "              title=\"Convert this dataframe to an interactive table.\"\n",
              "              style=\"display:none;\">\n",
              "\n",
              "  <svg xmlns=\"http://www.w3.org/2000/svg\" height=\"24px\"viewBox=\"0 0 24 24\"\n",
              "       width=\"24px\">\n",
              "    <path d=\"M0 0h24v24H0V0z\" fill=\"none\"/>\n",
              "    <path d=\"M18.56 5.44l.94 2.06.94-2.06 2.06-.94-2.06-.94-.94-2.06-.94 2.06-2.06.94zm-11 1L8.5 8.5l.94-2.06 2.06-.94-2.06-.94L8.5 2.5l-.94 2.06-2.06.94zm10 10l.94 2.06.94-2.06 2.06-.94-2.06-.94-.94-2.06-.94 2.06-2.06.94z\"/><path d=\"M17.41 7.96l-1.37-1.37c-.4-.4-.92-.59-1.43-.59-.52 0-1.04.2-1.43.59L10.3 9.45l-7.72 7.72c-.78.78-.78 2.05 0 2.83L4 21.41c.39.39.9.59 1.41.59.51 0 1.02-.2 1.41-.59l7.78-7.78 2.81-2.81c.8-.78.8-2.07 0-2.86zM5.41 20L4 18.59l7.72-7.72 1.47 1.35L5.41 20z\"/>\n",
              "  </svg>\n",
              "      </button>\n",
              "\n",
              "\n",
              "\n",
              "    <div id=\"df-a639bc50-9358-4f5f-ba43-b6f376032fa2\">\n",
              "      <button class=\"colab-df-quickchart\" onclick=\"quickchart('df-a639bc50-9358-4f5f-ba43-b6f376032fa2')\"\n",
              "              title=\"Suggest charts.\"\n",
              "              style=\"display:none;\">\n",
              "\n",
              "<svg xmlns=\"http://www.w3.org/2000/svg\" height=\"24px\"viewBox=\"0 0 24 24\"\n",
              "     width=\"24px\">\n",
              "    <g>\n",
              "        <path d=\"M19 3H5c-1.1 0-2 .9-2 2v14c0 1.1.9 2 2 2h14c1.1 0 2-.9 2-2V5c0-1.1-.9-2-2-2zM9 17H7v-7h2v7zm4 0h-2V7h2v10zm4 0h-2v-4h2v4z\"/>\n",
              "    </g>\n",
              "</svg>\n",
              "      </button>\n",
              "    </div>\n",
              "\n",
              "<style>\n",
              "  .colab-df-quickchart {\n",
              "    background-color: #E8F0FE;\n",
              "    border: none;\n",
              "    border-radius: 50%;\n",
              "    cursor: pointer;\n",
              "    display: none;\n",
              "    fill: #1967D2;\n",
              "    height: 32px;\n",
              "    padding: 0 0 0 0;\n",
              "    width: 32px;\n",
              "  }\n",
              "\n",
              "  .colab-df-quickchart:hover {\n",
              "    background-color: #E2EBFA;\n",
              "    box-shadow: 0px 1px 2px rgba(60, 64, 67, 0.3), 0px 1px 3px 1px rgba(60, 64, 67, 0.15);\n",
              "    fill: #174EA6;\n",
              "  }\n",
              "\n",
              "  [theme=dark] .colab-df-quickchart {\n",
              "    background-color: #3B4455;\n",
              "    fill: #D2E3FC;\n",
              "  }\n",
              "\n",
              "  [theme=dark] .colab-df-quickchart:hover {\n",
              "    background-color: #434B5C;\n",
              "    box-shadow: 0px 1px 3px 1px rgba(0, 0, 0, 0.15);\n",
              "    filter: drop-shadow(0px 1px 2px rgba(0, 0, 0, 0.3));\n",
              "    fill: #FFFFFF;\n",
              "  }\n",
              "</style>\n",
              "\n",
              "    <script>\n",
              "      async function quickchart(key) {\n",
              "        const containerElement = document.querySelector('#' + key);\n",
              "        const charts = await google.colab.kernel.invokeFunction(\n",
              "            'suggestCharts', [key], {});\n",
              "      }\n",
              "    </script>\n",
              "\n",
              "      <script>\n",
              "\n",
              "function displayQuickchartButton(domScope) {\n",
              "  let quickchartButtonEl =\n",
              "    domScope.querySelector('#df-a639bc50-9358-4f5f-ba43-b6f376032fa2 button.colab-df-quickchart');\n",
              "  quickchartButtonEl.style.display =\n",
              "    google.colab.kernel.accessAllowed ? 'block' : 'none';\n",
              "}\n",
              "\n",
              "        displayQuickchartButton(document);\n",
              "      </script>\n",
              "      <style>\n",
              "    .colab-df-container {\n",
              "      display:flex;\n",
              "      flex-wrap:wrap;\n",
              "      gap: 12px;\n",
              "    }\n",
              "\n",
              "    .colab-df-convert {\n",
              "      background-color: #E8F0FE;\n",
              "      border: none;\n",
              "      border-radius: 50%;\n",
              "      cursor: pointer;\n",
              "      display: none;\n",
              "      fill: #1967D2;\n",
              "      height: 32px;\n",
              "      padding: 0 0 0 0;\n",
              "      width: 32px;\n",
              "    }\n",
              "\n",
              "    .colab-df-convert:hover {\n",
              "      background-color: #E2EBFA;\n",
              "      box-shadow: 0px 1px 2px rgba(60, 64, 67, 0.3), 0px 1px 3px 1px rgba(60, 64, 67, 0.15);\n",
              "      fill: #174EA6;\n",
              "    }\n",
              "\n",
              "    [theme=dark] .colab-df-convert {\n",
              "      background-color: #3B4455;\n",
              "      fill: #D2E3FC;\n",
              "    }\n",
              "\n",
              "    [theme=dark] .colab-df-convert:hover {\n",
              "      background-color: #434B5C;\n",
              "      box-shadow: 0px 1px 3px 1px rgba(0, 0, 0, 0.15);\n",
              "      filter: drop-shadow(0px 1px 2px rgba(0, 0, 0, 0.3));\n",
              "      fill: #FFFFFF;\n",
              "    }\n",
              "  </style>\n",
              "\n",
              "      <script>\n",
              "        const buttonEl =\n",
              "          document.querySelector('#df-b6c7d2a6-dc95-44b7-bbb0-e6aefcc41156 button.colab-df-convert');\n",
              "        buttonEl.style.display =\n",
              "          google.colab.kernel.accessAllowed ? 'block' : 'none';\n",
              "\n",
              "        async function convertToInteractive(key) {\n",
              "          const element = document.querySelector('#df-b6c7d2a6-dc95-44b7-bbb0-e6aefcc41156');\n",
              "          const dataTable =\n",
              "            await google.colab.kernel.invokeFunction('convertToInteractive',\n",
              "                                                     [key], {});\n",
              "          if (!dataTable) return;\n",
              "\n",
              "          const docLinkHtml = 'Like what you see? Visit the ' +\n",
              "            '<a target=\"_blank\" href=https://colab.research.google.com/notebooks/data_table.ipynb>data table notebook</a>'\n",
              "            + ' to learn more about interactive tables.';\n",
              "          element.innerHTML = '';\n",
              "          dataTable['output_type'] = 'display_data';\n",
              "          await google.colab.output.renderOutput(dataTable, element);\n",
              "          const docLink = document.createElement('div');\n",
              "          docLink.innerHTML = docLinkHtml;\n",
              "          element.appendChild(docLink);\n",
              "        }\n",
              "      </script>\n",
              "    </div>\n",
              "  </div>\n"
            ]
          },
          "metadata": {},
          "execution_count": 26
        }
      ]
    },
    {
      "cell_type": "code",
      "source": [
        "y_test_1_count = 0\n",
        "for i in y_test:\n",
        "  if i==1:\n",
        "    y_test_1_count=y_test_1_count+1\n",
        "print(y_test_1_count)\n",
        "print(y_test.count()-y_test_1_count)\n"
      ],
      "metadata": {
        "colab": {
          "base_uri": "https://localhost:8080/"
        },
        "id": "AYRZu4WO-WfT",
        "outputId": "38a7bac0-1aec-4f97-f2f1-525ec500812c"
      },
      "execution_count": null,
      "outputs": [
        {
          "output_type": "stream",
          "name": "stdout",
          "text": [
            "54\n",
            "125\n"
          ]
        }
      ]
    },
    {
      "cell_type": "code",
      "source": [
        "sample_df=pd.concat([X_train, y_train], axis=1)\n",
        "test_df=pd.concat([X_test, y_test], axis=1)"
      ],
      "metadata": {
        "id": "FcwaK9JOzD3-"
      },
      "execution_count": null,
      "outputs": []
    },
    {
      "cell_type": "code",
      "source": [
        "# I AM CREATING df0 WITH ALL TARGET = 0\n",
        "sample_df0 = sample_df[sample_df['PCOS'] == 0]\n",
        "\n",
        "# I AM CREATING df1 WITH ALL TARGET = 1\n",
        "sample_df1 = sample_df[sample_df['PCOS'] == 1]"
      ],
      "metadata": {
        "id": "PTMgQYRDzUbI"
      },
      "execution_count": null,
      "outputs": []
    },
    {
      "cell_type": "code",
      "source": [
        "sample_df0.head(5)"
      ],
      "metadata": {
        "colab": {
          "base_uri": "https://localhost:8080/",
          "height": 206
        },
        "id": "9x4BVBcazZm0",
        "outputId": "fa8e9fbe-a521-430f-c413-e3572069e46e"
      },
      "execution_count": null,
      "outputs": [
        {
          "output_type": "execute_result",
          "data": {
            "text/plain": [
              "     FSH(mIU/mL)  Follicle No. (L)  TSH (mIU/L)  RBS(mg/dl)  Weight gain(Y/N)  \\\n",
              "242         1.32                 6         2.00       113.0                 1   \n",
              "23          6.41                 6         0.45        92.0                 0   \n",
              "164         7.72                 2         5.51       108.0                 1   \n",
              "13          4.84                 3         1.48        91.0                 0   \n",
              "502         6.81                 3         1.22       100.0                 0   \n",
              "\n",
              "     Waist:Hip Ratio  PCOS  \n",
              "242            0.842     0  \n",
              "23             0.842     0  \n",
              "164            0.842     0  \n",
              "13             0.842     0  \n",
              "502            0.842     0  "
            ],
            "text/html": [
              "\n",
              "\n",
              "  <div id=\"df-7262d841-f0c4-44ed-8c75-433c5f1a3987\">\n",
              "    <div class=\"colab-df-container\">\n",
              "      <div>\n",
              "<style scoped>\n",
              "    .dataframe tbody tr th:only-of-type {\n",
              "        vertical-align: middle;\n",
              "    }\n",
              "\n",
              "    .dataframe tbody tr th {\n",
              "        vertical-align: top;\n",
              "    }\n",
              "\n",
              "    .dataframe thead th {\n",
              "        text-align: right;\n",
              "    }\n",
              "</style>\n",
              "<table border=\"1\" class=\"dataframe\">\n",
              "  <thead>\n",
              "    <tr style=\"text-align: right;\">\n",
              "      <th></th>\n",
              "      <th>FSH(mIU/mL)</th>\n",
              "      <th>Follicle No. (L)</th>\n",
              "      <th>TSH (mIU/L)</th>\n",
              "      <th>RBS(mg/dl)</th>\n",
              "      <th>Weight gain(Y/N)</th>\n",
              "      <th>Waist:Hip Ratio</th>\n",
              "      <th>PCOS</th>\n",
              "    </tr>\n",
              "  </thead>\n",
              "  <tbody>\n",
              "    <tr>\n",
              "      <th>242</th>\n",
              "      <td>1.32</td>\n",
              "      <td>6</td>\n",
              "      <td>2.00</td>\n",
              "      <td>113.0</td>\n",
              "      <td>1</td>\n",
              "      <td>0.842</td>\n",
              "      <td>0</td>\n",
              "    </tr>\n",
              "    <tr>\n",
              "      <th>23</th>\n",
              "      <td>6.41</td>\n",
              "      <td>6</td>\n",
              "      <td>0.45</td>\n",
              "      <td>92.0</td>\n",
              "      <td>0</td>\n",
              "      <td>0.842</td>\n",
              "      <td>0</td>\n",
              "    </tr>\n",
              "    <tr>\n",
              "      <th>164</th>\n",
              "      <td>7.72</td>\n",
              "      <td>2</td>\n",
              "      <td>5.51</td>\n",
              "      <td>108.0</td>\n",
              "      <td>1</td>\n",
              "      <td>0.842</td>\n",
              "      <td>0</td>\n",
              "    </tr>\n",
              "    <tr>\n",
              "      <th>13</th>\n",
              "      <td>4.84</td>\n",
              "      <td>3</td>\n",
              "      <td>1.48</td>\n",
              "      <td>91.0</td>\n",
              "      <td>0</td>\n",
              "      <td>0.842</td>\n",
              "      <td>0</td>\n",
              "    </tr>\n",
              "    <tr>\n",
              "      <th>502</th>\n",
              "      <td>6.81</td>\n",
              "      <td>3</td>\n",
              "      <td>1.22</td>\n",
              "      <td>100.0</td>\n",
              "      <td>0</td>\n",
              "      <td>0.842</td>\n",
              "      <td>0</td>\n",
              "    </tr>\n",
              "  </tbody>\n",
              "</table>\n",
              "</div>\n",
              "      <button class=\"colab-df-convert\" onclick=\"convertToInteractive('df-7262d841-f0c4-44ed-8c75-433c5f1a3987')\"\n",
              "              title=\"Convert this dataframe to an interactive table.\"\n",
              "              style=\"display:none;\">\n",
              "\n",
              "  <svg xmlns=\"http://www.w3.org/2000/svg\" height=\"24px\"viewBox=\"0 0 24 24\"\n",
              "       width=\"24px\">\n",
              "    <path d=\"M0 0h24v24H0V0z\" fill=\"none\"/>\n",
              "    <path d=\"M18.56 5.44l.94 2.06.94-2.06 2.06-.94-2.06-.94-.94-2.06-.94 2.06-2.06.94zm-11 1L8.5 8.5l.94-2.06 2.06-.94-2.06-.94L8.5 2.5l-.94 2.06-2.06.94zm10 10l.94 2.06.94-2.06 2.06-.94-2.06-.94-.94-2.06-.94 2.06-2.06.94z\"/><path d=\"M17.41 7.96l-1.37-1.37c-.4-.4-.92-.59-1.43-.59-.52 0-1.04.2-1.43.59L10.3 9.45l-7.72 7.72c-.78.78-.78 2.05 0 2.83L4 21.41c.39.39.9.59 1.41.59.51 0 1.02-.2 1.41-.59l7.78-7.78 2.81-2.81c.8-.78.8-2.07 0-2.86zM5.41 20L4 18.59l7.72-7.72 1.47 1.35L5.41 20z\"/>\n",
              "  </svg>\n",
              "      </button>\n",
              "\n",
              "\n",
              "\n",
              "    <div id=\"df-bec77c4c-9190-472a-99df-30e6eea779f2\">\n",
              "      <button class=\"colab-df-quickchart\" onclick=\"quickchart('df-bec77c4c-9190-472a-99df-30e6eea779f2')\"\n",
              "              title=\"Suggest charts.\"\n",
              "              style=\"display:none;\">\n",
              "\n",
              "<svg xmlns=\"http://www.w3.org/2000/svg\" height=\"24px\"viewBox=\"0 0 24 24\"\n",
              "     width=\"24px\">\n",
              "    <g>\n",
              "        <path d=\"M19 3H5c-1.1 0-2 .9-2 2v14c0 1.1.9 2 2 2h14c1.1 0 2-.9 2-2V5c0-1.1-.9-2-2-2zM9 17H7v-7h2v7zm4 0h-2V7h2v10zm4 0h-2v-4h2v4z\"/>\n",
              "    </g>\n",
              "</svg>\n",
              "      </button>\n",
              "    </div>\n",
              "\n",
              "<style>\n",
              "  .colab-df-quickchart {\n",
              "    background-color: #E8F0FE;\n",
              "    border: none;\n",
              "    border-radius: 50%;\n",
              "    cursor: pointer;\n",
              "    display: none;\n",
              "    fill: #1967D2;\n",
              "    height: 32px;\n",
              "    padding: 0 0 0 0;\n",
              "    width: 32px;\n",
              "  }\n",
              "\n",
              "  .colab-df-quickchart:hover {\n",
              "    background-color: #E2EBFA;\n",
              "    box-shadow: 0px 1px 2px rgba(60, 64, 67, 0.3), 0px 1px 3px 1px rgba(60, 64, 67, 0.15);\n",
              "    fill: #174EA6;\n",
              "  }\n",
              "\n",
              "  [theme=dark] .colab-df-quickchart {\n",
              "    background-color: #3B4455;\n",
              "    fill: #D2E3FC;\n",
              "  }\n",
              "\n",
              "  [theme=dark] .colab-df-quickchart:hover {\n",
              "    background-color: #434B5C;\n",
              "    box-shadow: 0px 1px 3px 1px rgba(0, 0, 0, 0.15);\n",
              "    filter: drop-shadow(0px 1px 2px rgba(0, 0, 0, 0.3));\n",
              "    fill: #FFFFFF;\n",
              "  }\n",
              "</style>\n",
              "\n",
              "    <script>\n",
              "      async function quickchart(key) {\n",
              "        const containerElement = document.querySelector('#' + key);\n",
              "        const charts = await google.colab.kernel.invokeFunction(\n",
              "            'suggestCharts', [key], {});\n",
              "      }\n",
              "    </script>\n",
              "\n",
              "      <script>\n",
              "\n",
              "function displayQuickchartButton(domScope) {\n",
              "  let quickchartButtonEl =\n",
              "    domScope.querySelector('#df-bec77c4c-9190-472a-99df-30e6eea779f2 button.colab-df-quickchart');\n",
              "  quickchartButtonEl.style.display =\n",
              "    google.colab.kernel.accessAllowed ? 'block' : 'none';\n",
              "}\n",
              "\n",
              "        displayQuickchartButton(document);\n",
              "      </script>\n",
              "      <style>\n",
              "    .colab-df-container {\n",
              "      display:flex;\n",
              "      flex-wrap:wrap;\n",
              "      gap: 12px;\n",
              "    }\n",
              "\n",
              "    .colab-df-convert {\n",
              "      background-color: #E8F0FE;\n",
              "      border: none;\n",
              "      border-radius: 50%;\n",
              "      cursor: pointer;\n",
              "      display: none;\n",
              "      fill: #1967D2;\n",
              "      height: 32px;\n",
              "      padding: 0 0 0 0;\n",
              "      width: 32px;\n",
              "    }\n",
              "\n",
              "    .colab-df-convert:hover {\n",
              "      background-color: #E2EBFA;\n",
              "      box-shadow: 0px 1px 2px rgba(60, 64, 67, 0.3), 0px 1px 3px 1px rgba(60, 64, 67, 0.15);\n",
              "      fill: #174EA6;\n",
              "    }\n",
              "\n",
              "    [theme=dark] .colab-df-convert {\n",
              "      background-color: #3B4455;\n",
              "      fill: #D2E3FC;\n",
              "    }\n",
              "\n",
              "    [theme=dark] .colab-df-convert:hover {\n",
              "      background-color: #434B5C;\n",
              "      box-shadow: 0px 1px 3px 1px rgba(0, 0, 0, 0.15);\n",
              "      filter: drop-shadow(0px 1px 2px rgba(0, 0, 0, 0.3));\n",
              "      fill: #FFFFFF;\n",
              "    }\n",
              "  </style>\n",
              "\n",
              "      <script>\n",
              "        const buttonEl =\n",
              "          document.querySelector('#df-7262d841-f0c4-44ed-8c75-433c5f1a3987 button.colab-df-convert');\n",
              "        buttonEl.style.display =\n",
              "          google.colab.kernel.accessAllowed ? 'block' : 'none';\n",
              "\n",
              "        async function convertToInteractive(key) {\n",
              "          const element = document.querySelector('#df-7262d841-f0c4-44ed-8c75-433c5f1a3987');\n",
              "          const dataTable =\n",
              "            await google.colab.kernel.invokeFunction('convertToInteractive',\n",
              "                                                     [key], {});\n",
              "          if (!dataTable) return;\n",
              "\n",
              "          const docLinkHtml = 'Like what you see? Visit the ' +\n",
              "            '<a target=\"_blank\" href=https://colab.research.google.com/notebooks/data_table.ipynb>data table notebook</a>'\n",
              "            + ' to learn more about interactive tables.';\n",
              "          element.innerHTML = '';\n",
              "          dataTable['output_type'] = 'display_data';\n",
              "          await google.colab.output.renderOutput(dataTable, element);\n",
              "          const docLink = document.createElement('div');\n",
              "          docLink.innerHTML = docLinkHtml;\n",
              "          element.appendChild(docLink);\n",
              "        }\n",
              "      </script>\n",
              "    </div>\n",
              "  </div>\n"
            ]
          },
          "metadata": {},
          "execution_count": 29
        }
      ]
    },
    {
      "cell_type": "code",
      "source": [
        "test_df['PCOS']"
      ],
      "metadata": {
        "colab": {
          "base_uri": "https://localhost:8080/"
        },
        "id": "hueW8RhH78qm",
        "outputId": "d2c88b70-66e7-4c89-c9f2-5cab1a85d3a1"
      },
      "execution_count": null,
      "outputs": [
        {
          "output_type": "execute_result",
          "data": {
            "text/plain": [
              "499    0\n",
              "486    1\n",
              "65     0\n",
              "41     0\n",
              "326    0\n",
              "      ..\n",
              "433    0\n",
              "324    0\n",
              "527    0\n",
              "273    0\n",
              "423    0\n",
              "Name: PCOS, Length: 179, dtype: int64"
            ]
          },
          "metadata": {},
          "execution_count": 57
        }
      ]
    },
    {
      "cell_type": "code",
      "source": [
        "test_df['FSH(mIU/mL)']"
      ],
      "metadata": {
        "colab": {
          "base_uri": "https://localhost:8080/"
        },
        "id": "mRMzN4-t7osP",
        "outputId": "47f9b853-61ed-4f9a-bee8-f3465167bd9c"
      },
      "execution_count": null,
      "outputs": [
        {
          "output_type": "execute_result",
          "data": {
            "text/plain": [
              "499    6.50\n",
              "486    7.59\n",
              "65     4.76\n",
              "41     5.60\n",
              "326    5.27\n",
              "       ... \n",
              "433    4.09\n",
              "324    6.20\n",
              "527    4.36\n",
              "273    6.30\n",
              "423    2.97\n",
              "Name: FSH(mIU/mL), Length: 179, dtype: float64"
            ]
          },
          "metadata": {},
          "execution_count": 56
        }
      ]
    },
    {
      "cell_type": "code",
      "source": [
        "# Import statistics library\n",
        "import statistics"
      ],
      "metadata": {
        "id": "5H-nUXy4zeZ3"
      },
      "execution_count": null,
      "outputs": []
    },
    {
      "cell_type": "code",
      "source": [
        "# Define a sample data set\n",
        "data0 = sample_df0['FSH(mIU/mL)']\n",
        "data1 = sample_df1['FSH(mIU/mL)']\n",
        "\n",
        "# Calculate the sample standard deviation\n",
        "fsh_sd0 = statistics.stdev(data0)\n",
        "fsh_sd1 = statistics.stdev(data1)\n",
        "\n",
        "# Calculate the population standard deviation\n",
        "# population_sd = statistics.pstdev(data)\n",
        "\n",
        "# Print the results\n",
        "print(\"Sample standard deviation for PCOS = N:\", fsh_sd0)\n",
        "print(\"Sample standard deviation for PCOS = Y:\", fsh_sd1)\n",
        "# print(\"Population standard deviation:\", population_sd)"
      ],
      "metadata": {
        "colab": {
          "base_uri": "https://localhost:8080/"
        },
        "id": "0ZGJNEWxzj10",
        "outputId": "1152a583-580c-4a99-8174-b083b56513d4"
      },
      "execution_count": null,
      "outputs": [
        {
          "output_type": "stream",
          "name": "stdout",
          "text": [
            "Sample standard deviation for PCOS = N: 4.213148986561981\n",
            "Sample standard deviation for PCOS = Y: 2.4454317994427304\n"
          ]
        }
      ]
    },
    {
      "cell_type": "code",
      "source": [
        "fsh_mean0=sample_df0['FSH(mIU/mL)'].mean()\n",
        "fsh_mean1=sample_df1['FSH(mIU/mL)'].mean()\n",
        "print(fsh_mean0)\n",
        "print(fsh_mean0)"
      ],
      "metadata": {
        "colab": {
          "base_uri": "https://localhost:8080/"
        },
        "id": "KvSxzAAM0WAf",
        "outputId": "e03ded65-29a2-40a0-ea3d-f4d5058eff65"
      },
      "execution_count": null,
      "outputs": [
        {
          "output_type": "stream",
          "name": "stdout",
          "text": [
            "5.468192468619248\n",
            "5.468192468619248\n"
          ]
        }
      ]
    },
    {
      "cell_type": "code",
      "source": [
        "import math"
      ],
      "metadata": {
        "id": "mH1hNynv0jvc"
      },
      "execution_count": null,
      "outputs": []
    },
    {
      "cell_type": "code",
      "source": [
        "fsh_0 = []\n",
        "for x in test_df['FSH(mIU/mL)']:\n",
        "  p0=float((1/(fsh_sd0*math.sqrt(2*math.pi)))*math.exp(-((x-fsh_mean0)*(x-fsh_mean0)/2*fsh_sd0*fsh_sd0)))\n",
        "  fsh_0.append(p0)\n",
        "print(fsh_0)\n",
        "x=0"
      ],
      "metadata": {
        "colab": {
          "base_uri": "https://localhost:8080/"
        },
        "id": "KZvjVJg-0-jI",
        "outputId": "5c891c4f-696f-416d-8f52-cbffe4bacb35"
      },
      "execution_count": null,
      "outputs": [
        {
          "output_type": "stream",
          "name": "stdout",
          "text": [
            "[7.459337645750492e-06, 4.198452389729724e-19, 0.0011044116420360546, 0.08115927657145072, 0.0668186262119293, 6.42418438072738e-24, 6.878955779264746e-17, 0.0, 2.9609812608035444e-15, 2.814700770997428e-50, 0.00013724185330268656, 1.7587835776339657e-56, 7.810615059975018e-69, 3.418171378727585e-26, 6.658840922048027e-34, 6.457223605020069e-15, 4.261627801989745e-05, 0.024243034578888076, 5.1031021903468984e-33, 6.42418438072738e-24, 4.4467508867443786e-18, 3.856228216997552e-17, 2.3979416361903574e-08, 3.4289125942516526e-29, 0.0005031384534218578, 2.3073244673764845e-05, 0.00027293990869496957, 7.48936559630216e-08, 0.0007165650027791518, 0.04679466402868137, 0.05635432928114599, 1.6303880799361557e-05, 0.09468706510308887, 0.051535157662984575, 2.2143988444213255e-48, 0.08300681641389256, 6.39855843732418e-43, 0.00027293990869496957, 1.1137260907169598e-43, 0.00010083903714673584, 1.518190462727102e-20, 3.5348010097883604e-06, 0.006348057235757505, 8.453098351794892e-33, 0.0908613128815098, 9.42487387171208e-55, 1.1932641711801413e-48, 1.2819092736703023e-05, 9.613215195627374e-07, 0.09468706510308887, 0.00031496610525614366, 0.019521115223269766, 2.0919072284357292e-21, 6.234782672823198e-22, 0.05877366505439947, 0.014692253114826123, 1.4074808741609174e-31, 0.018603107693809223, 1.5970016650068477e-46, 1.0841110769219543e-15, 0.09188624710124622, 2.840920084848855e-11, 4.466906869027695e-68, 2.168084549060202e-05, 5.153169382497222e-06, 3.5811169506585823e-10, 1.0524840308113568e-78, 2.5819546040159976e-06, 2.7604530097228046e-09, 0.0001596831776323688, 2.533394320586731e-60, 7.847656354497154e-07, 0.04530730340184274, 2.7521951377257964e-10, 0.00010083903714673584, 2.1518315769621672e-09, 9.42487387171208e-55, 4.220587420149198e-51, 0.009260383368724853, 4.6380094776364064e-29, 5.074108173797516e-83, 0.0, 0.04447196774417801, 0.032284309653909736, 0.02485739999001967, 3.299845521338782e-19, 5.360155466844987e-13, 0.004872131746740079, 6.907572041503337e-21, 1.041176117242733e-35, 4.65143423969058e-10, 4.1468570170197376e-11, 0.0018002878757150745, 0.0035524782933968133, 8.427590353064238e-24, 5.501256246980247e-29, 1.7483538189600808e-06, 1.7698411892988262e-69, 1.1137260907169598e-43, 1.5591795280568595e-58, 0.0946334227428069, 5.5072344761347975e-24, 0.010462440618533053, 2.9125040140584926e-13, 9.538399155359268e-49, 5.76595444760476e-09, 0.000855854792310539, 2.12203527843595e-15, 8.451652139878128e-38, 0.0, 1.400193906805357e-47, 2.39411717926144e-15, 5.986577931391861e-21, 0.05240218816526269, 0.012064952532033275, 0.05001035294154448, 0.08692387728166548, 4.0416538066486175e-100, 1.3522834843778731e-11, 0.00033155732727629104, 4.261627801989745e-05, 1.6281532398308186e-06, 8.453098351794892e-33, 2.2143988444213255e-48, 1.3327914522002362e-180, 6.142156007800007e-36, 3.534935885953972e-09, 1.717996894266033e-25, 3.0979316264877905e-67, 1.7704683086152822e-45, 1.185288189450738e-08, 1.2929041038889182e-53, 1.1886570908770051e-76, 3.2332873942812017e-09, 3.580482659011288e-22, 0.0908613128815098, 3.580755902672786e-28, 4.518682467459003e-09, 5.637895015293015e-27, 5.382727898349638e-22, 2.5232741662922654e-09, 0.06358886172201346, 1.7138394251062779e-15, 3.9546441387390316e-13, 5.512344554931672e-06, 2.2910887952643865e-63, 0.0004386136234302114, 4.27174327101917e-06, 9.613215195627374e-07, 4.810281352707081e-19, 0.004694131874761155, 0.05635432928114599, 4.5992902903178843e-57, 6.886351230710783e-23, 0.0, 6.142156007800007e-36, 3.41955326214409e-164, 0.0009730854556144718, 0.0004788822675534782, 0.033571667355576276, 1.4738602360564192e-49, 0.028429249968707913, 8.69422906879963e-276, 2.1338749204615367e-18, 0.05635432928114599, 8.002054199988091e-23, 3.580755902672786e-28, 0.08300681641389256, 0.09384336639085587, 0.0015975172679800517, 7.585455020801622e-48, 1.110871681765656e-33, 5.476780696653885e-39, 3.577013034653286e-27, 4.518682467459003e-09, 0.0008166878090143725, 1.7483538189600808e-06, 0.00020387350341046891, 8.327350774406242e-26]\n"
          ]
        }
      ]
    },
    {
      "cell_type": "code",
      "source": [
        "fsh_0_max = max(fsh_0)\n",
        "print(fsh_0_max)\n",
        "\n",
        "fsh_0_sum=sum(fsh_0)\n",
        "print(fsh_0_sum)\n",
        "\n",
        "beeta_fsh_0 = fsh_0_max/fsh_0_sum\n",
        "print(beeta_fsh_0)\n",
        "\n",
        "total=362\n",
        "mass_fsh_0=[]\n",
        "for y in fsh_0:\n",
        "  a=y/(fsh_0_sum+(total*(1-fsh_0_max*beeta_fsh_0)))\n",
        "  mass_fsh_0.append(a)\n",
        "print(mass_fsh_0)\n",
        "y=0"
      ],
      "metadata": {
        "colab": {
          "base_uri": "https://localhost:8080/"
        },
        "id": "QI7zC6Vx1Zp3",
        "outputId": "e6e50daa-405e-499a-8274-e7affafc814b"
      },
      "execution_count": null,
      "outputs": [
        {
          "output_type": "stream",
          "name": "stdout",
          "text": [
            "0.09468706510308887\n",
            "1.8931545871145836\n",
            "0.05001549569568135\n",
            "[2.05957331070009e-08, 1.1592209521522962e-21, 3.0493548488983408e-06, 0.00022408622304087903, 0.00018449072255381083, 1.7737605296765333e-26, 1.8993259725320267e-19, 0.0, 8.175468477027922e-18, 7.771578202866052e-53, 3.7893399065298854e-07, 4.856119789477753e-59, 2.1565633681753316e-71, 9.437801152541828e-29, 1.83855077951333e-36, 1.7828828817929068e-17, 1.1766641085238728e-07, 6.693664955292922e-05, 1.409000848621084e-35, 1.7737605296765333e-26, 1.2277778377398069e-20, 1.0647305555636478e-19, 6.620878191950076e-11, 9.467458371276858e-32, 1.389199121244927e-06, 6.370678092097269e-08, 7.536054514080403e-07, 2.067864229876603e-10, 1.9784841834401146e-06, 0.0001292032157460451, 0.00015559809468602672, 4.50161118183601e-08, 0.0002614373573315075, 0.00014229203761257728, 6.114104195046696e-51, 0.00022918740484904667, 1.7666850342905845e-45, 7.536054514080403e-07, 3.0750726683859823e-46, 2.7842336605104386e-07, 4.1918260120233054e-23, 9.75982341078672e-09, 1.752741312764014e-05, 2.3339573276989078e-35, 0.000250874198049658, 2.6022710868908306e-57, 3.294682659897237e-51, 3.5394377519489e-08, 2.654273393591459e-09, 0.0002614373573315075, 8.696426076519865e-07, 5.389911251953062e-05, 5.7758966020277904e-24, 1.721465443822269e-24, 0.00016227804352981378, 4.056629935043205e-05, 3.886149389408696e-34, 5.13644319667931e-05, 4.409429043965451e-49, 2.993303622788541e-18, 0.0002537041103883158, 7.843971492455284e-14, 1.2333430400584488e-70, 5.986227309511166e-08, 1.4228247372277682e-08, 9.887704839683581e-13, 2.905979220597448e-81, 7.128950376579376e-09, 7.621796484176733e-12, 4.4089599698810726e-07, 6.994872166876767e-63, 2.1667907188081366e-09, 0.000125096512985153, 7.598995944000213e-13, 2.7842336605104386e-07, 5.941351760042326e-12, 2.6022710868908306e-57, 1.1653325829764423e-53, 2.5568541523176754e-05, 1.280585621480195e-31, 1.4009954055789497e-85, 0.0, 0.00012279009503263883, 8.913915105512017e-05, 6.863295378780289e-05, 9.111095499282496e-22, 1.4799749877264614e-15, 1.3452283551632812e-05, 1.907227115067406e-23, 2.874757310433737e-38, 1.2842922886056639e-12, 1.144975122611432e-13, 4.97071594890471e-06, 9.808631580164046e-06, 2.3269143976305852e-26, 1.518933862453241e-31, 4.8273225240610125e-09, 4.886650599244765e-72, 3.0750726683859823e-46, 4.304999579158725e-61, 0.0002612892471656905, 1.5205844917445662e-26, 2.8887502464767747e-05, 8.041619537197172e-16, 2.6336161815082606e-51, 1.5920188165452653e-11, 2.3630726638064765e-06, 5.859082175105103e-18, 2.3335580188585202e-40, 0.0, 3.8660295822700485e-50, 6.6103186090584135e-18, 1.6529344447821034e-23, 0.00014468596716351025, 3.331214567555503e-05, 0.00013808194918723754, 0.0002400026734463179, 1.1159278084167512e-102, 3.733745682516259e-14, 9.154520879133634e-07, 1.1766641085238728e-07, 4.495440637944279e-09, 2.3339573276989078e-35, 6.114104195046696e-51, 3.6799268702424395e-183, 1.6958905984136285e-38, 9.760195812954494e-12, 4.743505012555266e-28, 8.553597650754999e-70, 4.8883821178703276e-48, 3.27266043771526e-11, 3.569795217918872e-56, 3.281962201214157e-79, 8.927324032420326e-12, 9.885953517770017e-25, 0.000250874198049658, 9.886707961903352e-31, 1.2476386311335352e-11, 1.5566607456952443e-29, 1.4862073879330762e-24, 6.9669297399819045e-12, 0.0001755731254973656, 4.732025960489071e-18, 1.091903853702548e-15, 1.5219954188811885e-08, 6.32585030905355e-66, 1.2110417243828026e-06, 1.1794570575801588e-08, 2.654273393591459e-09, 1.328151045238959e-21, 1.296081392919968e-05, 0.00015559809468602672, 1.2698949933573811e-59, 1.901367906433157e-25, 0.0, 1.6958905984136285e-38, 9.441616625628442e-167, 2.6867544125124054e-06, 1.3222261600968881e-06, 9.2693632283339e-05, 4.0694272736309795e-52, 7.849507189439095e-05, 2.4005351410005832e-278, 5.8917722233133816e-21, 0.00015559809468602672, 2.2094210027427817e-25, 9.886707961903352e-31, 0.00022918740484904667, 0.0002591078484226608, 4.410852658464433e-06, 2.0943951664742198e-50, 3.067191453225709e-36, 1.5121759983356956e-41, 9.876373651479924e-30, 1.2476386311335352e-11, 2.254929987756176e-06, 4.8273225240610125e-09, 5.62908459603426e-07, 2.2992375755474017e-28]\n"
          ]
        }
      ]
    },
    {
      "cell_type": "code",
      "source": [
        "fsh_1 = []\n",
        "for x in test_df['FSH(mIU/mL)']:\n",
        "  p1=float((1/(fsh_sd1*math.sqrt(2*math.pi)))*math.exp(-((x-fsh_mean1)*(x-fsh_mean1)/2*fsh_sd1*fsh_sd1)))\n",
        "  fsh_1.append(p1)\n",
        "print(fsh_1)\n",
        "x=0\n",
        "\n",
        "fsh_1_max = max(fsh_1)\n",
        "print(fsh_1_max)\n",
        "\n",
        "fsh_1_sum=sum(fsh_1)\n",
        "print(fsh_1_sum)\n",
        "\n",
        "beeta_fsh_1 = fsh_1_max/fsh_1_sum\n",
        "print(beeta_fsh_1)\n",
        "\n",
        "total=362\n",
        "mass_fsh_1=[]\n",
        "for y in fsh_1:\n",
        "  a=y/(fsh_1_sum+(total*(1-fsh_1_max*beeta_fsh_1)))\n",
        "  mass_fsh_1.append(a)\n",
        "print(mass_fsh_1)\n",
        "y=0"
      ],
      "metadata": {
        "colab": {
          "base_uri": "https://localhost:8080/"
        },
        "id": "EWrHRZOB2Wei",
        "outputId": "fce302a3-ae3a-4505-9f10-d0e31b16a0bc"
      },
      "execution_count": null,
      "outputs": [
        {
          "output_type": "stream",
          "name": "stdout",
          "text": [
            "[5.527093767793204e-06, 8.859536429391073e-13, 0.15677571249688768, 0.010650720008835216, 0.05066944111901612, 9.832986809801621e-05, 9.83748652736614e-12, 0.0, 6.006433341743023e-11, 3.734872324474661e-11, 0.1625528729628529, 8.966736706983738e-13, 6.438225005906879e-34, 3.042516461502158e-05, 4.7532452866478186e-07, 0.0070656652978907655, 1.626931811327317e-05, 0.001970130960276892, 7.751769221659195e-07, 9.832986809801621e-05, 0.0017101644985582328, 0.0026348623100551833, 0.08082175931685681, 6.220498566975141e-06, 0.16165063268768864, 0.15324295260679854, 5.4920454212185444e-05, 0.0927295573834811, 0.00010731882747047779, 0.004226566996127562, 0.00547947717716283, 0.1504343842001319, 0.02128057682615115, 0.004818178307302102, 1.1514768542266086e-10, 0.01127354933274678, 2.830333706486496e-09, 5.4920454212185444e-05, 1.820519308483209e-09, 0.16168694669360079, 0.0005282418794335796, 3.5291964369257988e-06, 0.0005704606862445971, 8.746900814940179e-07, 0.02962561234666371, 2.5516497290688867e-12, 9.821552608766834e-11, 7.689278401054943e-06, 0.12133415885994793, 0.02128057682615115, 6.054473415043096e-05, 0.0015799160523420036, 0.00034656027154178536, 0.0002671958904400903, 0.005838182657513443, 0.10945324814583088, 2.153311181132958e-18, 0.10223383426825823, 3.447534948034507e-10, 3.693537777155218e-11, 0.02830871790471819, 5.778290578985632e-09, 7.227666369315429e-16, 1.0639884462561173e-05, 4.421867860858462e-06, 0.045291443187733316, 9.182288816388933e-19, 0.13231140391317867, 0.060774937246667195, 0.1628414359813785, 8.639501433479314e-14, 0.11903676146991748, 0.06924631318276402, 0.04353954651542527, 0.16168694669360079, 0.05870430803470822, 2.5516497290688867e-12, 2.2846381634468706e-11, 0.0007889077107906424, 2.7418060196697824e-17, 1.3514037933575848e-39, 3.957930162321282e-153, 0.003955037732046694, 0.08301244745280047, 0.09256496603031275, 0.0010051113710802678, 0.01571326994865622, 0.13626691095693522, 0.0004470852580067964, 1.736611750416588e-07, 0.04708566447102767, 0.03248524163459985, 0.15178146910610177, 0.14201600265779268, 6.1290000963047736e-15, 6.943904011539325e-06, 0.12803560034838318, 3.5381371496500816e-34, 1.820519308483209e-09, 2.57592382382164e-13, 0.022350580891657448, 5.055368757930458e-15, 0.1188788689479135, 0.014118725533160615, 1.072401223783193e-25, 0.06719390365762758, 0.15876344516297805, 5.1107543106854366e-11, 5.3442428409900254e-08, 0.0, 1.8489370476193812e-10, 0.005863391410530622, 1.2309973758173167e-13, 0.06273605919840092, 0.000999768764605683, 0.06487391225607976, 0.03383377498698839, 2.4343488285215773e-46, 0.02711989074955841, 0.162824810736655, 1.626931811327317e-05, 2.2320268114041007e-06, 8.746900814940179e-07, 1.1514768542266086e-10, 3.2206211236176523e-77, 1.5271197214249143e-07, 0.06288098713940482, 1.060007238436451e-15, 2.845770495180926e-33, 6.367072653294432e-10, 0.07389206426413515, 5.063115912856246e-12, 3.359057854556877e-18, 6.91054889081533e-08, 3.3762421581476157e-14, 0.02962561234666371, 1.0718169629070525e-05, 0.06502112338397596, 2.0188524575324823e-05, 4.0688645819638325e-14, 6.051278756954341e-08, 0.006615697646427117, 0.005503361824322252, 0.01489912935200593, 0.14028582161693912, 1.3334323900004352e-14, 0.16213801328831232, 3.95157885867251e-06, 0.12133415885994793, 0.0010863459328250822, 0.00044452722254239945, 0.00547947717716283, 6.297398243825713e-13, 1.591028127752047e-14, 0.0, 1.5271197214249143e-07, 5.255126467175156e-71, 0.15781362867779883, 8.082484138115428e-05, 0.002812349487473673, 4.931308388867908e-26, 0.08776358603737128, 9.446814209145831e-113, 0.0014736244823572414, 0.00547947717716283, 0.0001711540414617183, 1.0718169629070525e-05, 0.01127354933274678, 0.018302434177783457, 0.15315223215281626, 1.5798876394725242e-10, 5.376287062017196e-07, 2.7192783467510873e-08, 1.8193791223222662e-05, 0.06502112338397596, 0.0001178148886239185, 0.12803560034838318, 4.51097547357984e-05, 3.7216783010256294e-05]\n",
            "0.1628414359813785\n",
            "5.412627388767382\n",
            "0.030085469455983074\n",
            "[1.5116253425413744e-08, 2.4230274267959802e-15, 0.0004287717018412319, 2.9129048570666805e-05, 0.0001385777309120884, 2.6892599762254153e-07, 2.6904906206455332e-14, 0.0, 1.6427216977159013e-13, 1.0214640630362368e-13, 0.00044457187193997063, 2.4523460276999128e-15, 1.7608139989631813e-36, 8.321090941328945e-08, 1.2999826557096712e-09, 1.9324149679608704e-05, 4.44955605949678e-08, 5.388184121343369e-06, 2.120060070859048e-09, 2.6892599762254153e-07, 4.677192218085613e-06, 7.206182506248272e-06, 0.00022104242255495467, 1.7012671888930654e-08, 0.00044210430159957395, 0.0004191098259923179, 1.5020398404452914e-07, 0.0002536095004581062, 2.9351023549030787e-07, 1.1559394596350978e-05, 1.4986025048356501e-05, 0.0004114285682497458, 5.820103762623978e-05, 1.3177414279890074e-05, 3.149216690227655e-13, 3.0832447553308886e-05, 7.740784467064109e-12, 1.5020398404452914e-07, 4.979005674419527e-12, 0.0004422036181191269, 1.444708277967757e-06, 9.652130028895433e-09, 1.5601740561661851e-06, 2.392222295486498e-09, 8.102418430545984e-05, 6.9786013369724244e-15, 2.686132794241166e-13, 2.102969224915374e-08, 0.00033184128432449037, 5.820103762623978e-05, 1.6558603552652066e-07, 4.320970919155669e-06, 9.478205204934449e-07, 7.307639355889084e-07, 1.5967061950183767e-05, 0.00029934774163740594, 5.88917049091045e-21, 0.00027960309927359283, 9.428790998830408e-13, 1.010159324619343e-13, 7.742256092881947e-05, 1.5803260886688756e-11, 1.976721240908751e-18, 2.9099414033898918e-08, 1.209353016370421e-08, 0.00012386924521127853, 2.511298172335816e-21, 0.0003618633583309818, 0.00016621562649932068, 0.00044536107362543026, 2.3628492409283275e-16, 0.0003255580471250516, 0.00018938430625977274, 0.00011907791812577461, 0.0004422036181191269, 0.00016055258598779093, 6.9786013369724244e-15, 6.248341518154402e-14, 2.157612913148708e-06, 7.498666818023136e-20, 3.696004279770894e-42, 1.0824689771388722e-155, 1.0816779156717992e-05, 0.00022703381666372394, 0.000253159353471163, 2.748916310149864e-06, 4.2974803877926985e-05, 0.00037268142102567464, 1.2227500286277183e-06, 4.749523786590243e-10, 0.000128776327442738, 8.88450903431074e-05, 0.0004151127606444626, 0.000388404824819275, 1.6762429333113967e-17, 1.8991140228490303e-08, 0.0003501693048196475, 9.676582315218421e-37, 4.979005674419527e-12, 7.044989457632377e-16, 6.1127431369488e-05, 1.3826115226973494e-17, 0.0003251262210195316, 3.861382530666356e-05, 2.9329498201914898e-28, 0.00018377109544444716, 0.00043420802551963263, 1.397759122624628e-13, 1.4616167654346353e-10, 0.0, 5.056726401551536e-13, 1.6036006302343454e-05, 3.366700309537803e-16, 0.00017157917154957686, 2.7343046178545973e-06, 0.00017742606504620592, 9.253324414757362e-05, 6.657790760167185e-49, 7.417119351740969e-05, 0.00044531560462796824, 4.44955605949678e-08, 6.1044527831439046e-09, 2.392222295486498e-09, 3.149216690227655e-13, 8.808195977337849e-80, 4.17657627857164e-10, 0.0001719755403424141, 2.8990530506914095e-18, 7.78300311212117e-36, 1.741354278555116e-12, 0.00020209014293412234, 1.3847303207873427e-14, 9.186811719386072e-21, 1.8899916073612162e-10, 9.233809707647193e-17, 8.102418430545984e-05, 2.9313519034849274e-08, 0.00017782867821142608, 5.521434348446927e-08, 1.1128088423803395e-16, 1.654986636394024e-10, 1.8093516486374764e-05, 1.505134805437139e-05, 4.074818061081403e-05, 0.0003836728886184113, 3.6468536232106616e-17, 0.0004434372568529456, 1.08073193558376e-08, 0.00033184128432449037, 2.9710877213519795e-06, 1.21575396270672e-06, 1.4986025048356501e-05, 1.7222987662905625e-15, 4.3513617456980585e-17, 0.0, 4.17657627857164e-10, 1.437243998343381e-73, 0.00043161033724061913, 2.2105085180673713e-07, 7.691598760492584e-06, 1.3486817929408622e-28, 0.00024002788152329465, 2.5836442015939174e-115, 4.0302701682045445e-06, 1.4986025048356501e-05, 4.680955261868294e-07, 2.9313519034849274e-08, 3.0832447553308886e-05, 5.0056005010349615e-05, 0.00041886171126315306, 4.3208932117467417e-13, 1.4703806581098285e-09, 7.437055051110813e-11, 4.9758873370644794e-08, 0.00017782867821142608, 3.222163018300144e-07, 0.0003501693048196475, 1.2337233873577722e-07, 1.0178555807029247e-07]\n"
          ]
        }
      ]
    },
    {
      "cell_type": "code",
      "source": [
        "fsh_pcos=[]\n",
        "for i in range(0, len(mass_fsh_1)):\n",
        "  if(mass_fsh_1[i]>=mass_fsh_0[i]):\n",
        "    fsh_pcos.append(1)\n",
        "  else:\n",
        "    fsh_pcos.append(0)\n",
        "\n",
        "print(fsh_pcos)"
      ],
      "metadata": {
        "colab": {
          "base_uri": "https://localhost:8080/"
        },
        "id": "n-00aYnj3FXN",
        "outputId": "8ce12362-66e1-4599-8e77-2a713a7f1e8d"
      },
      "execution_count": null,
      "outputs": [
        {
          "output_type": "stream",
          "name": "stdout",
          "text": [
            "[0, 1, 1, 0, 0, 1, 1, 1, 1, 1, 1, 1, 1, 1, 1, 1, 0, 0, 1, 1, 1, 1, 1, 1, 1, 1, 0, 1, 0, 0, 0, 1, 0, 0, 1, 0, 1, 0, 1, 1, 1, 0, 0, 1, 0, 1, 1, 0, 1, 0, 0, 0, 1, 1, 0, 1, 1, 1, 1, 1, 0, 1, 1, 0, 0, 1, 1, 1, 1, 1, 1, 1, 1, 1, 1, 1, 1, 1, 0, 1, 1, 1, 0, 1, 1, 1, 1, 1, 1, 1, 1, 1, 1, 1, 1, 1, 1, 1, 1, 1, 0, 1, 1, 1, 1, 1, 1, 1, 1, 1, 1, 1, 1, 1, 0, 1, 0, 1, 1, 1, 0, 1, 1, 1, 1, 1, 1, 1, 1, 1, 1, 1, 1, 1, 1, 0, 1, 1, 1, 1, 1, 0, 1, 1, 1, 1, 1, 0, 1, 1, 0, 0, 1, 1, 1, 1, 1, 1, 0, 0, 1, 1, 1, 1, 0, 1, 1, 0, 0, 1, 1, 1, 1, 1, 1, 0, 1, 0, 1]\n"
          ]
        }
      ]
    },
    {
      "cell_type": "code",
      "source": [
        "# y_test\n",
        "y_test_list=[]\n",
        "for i in test_df['PCOS']:\n",
        "  y_test_list.append(i)\n",
        "print(y_test_list)"
      ],
      "metadata": {
        "colab": {
          "base_uri": "https://localhost:8080/"
        },
        "id": "PMS1hygi4zVQ",
        "outputId": "b780c8ba-251b-4dd1-f040-f0b181349e7c"
      },
      "execution_count": null,
      "outputs": [
        {
          "output_type": "stream",
          "name": "stdout",
          "text": [
            "[0, 1, 0, 0, 0, 1, 0, 1, 0, 0, 0, 0, 0, 0, 0, 0, 1, 0, 1, 1, 1, 1, 0, 0, 0, 1, 0, 0, 0, 0, 1, 0, 0, 0, 0, 0, 0, 0, 0, 0, 1, 0, 0, 0, 1, 0, 1, 1, 0, 1, 0, 0, 0, 1, 0, 1, 1, 0, 1, 0, 0, 0, 0, 1, 0, 0, 1, 1, 1, 0, 1, 0, 1, 0, 1, 1, 0, 1, 0, 0, 0, 0, 1, 1, 0, 0, 0, 1, 0, 1, 1, 0, 0, 0, 0, 1, 0, 0, 0, 0, 0, 0, 1, 0, 0, 0, 0, 1, 1, 0, 0, 0, 0, 0, 0, 0, 0, 1, 0, 1, 1, 1, 1, 0, 0, 0, 0, 0, 0, 0, 0, 0, 0, 1, 0, 1, 0, 0, 0, 0, 0, 0, 1, 0, 1, 0, 0, 1, 0, 0, 0, 0, 0, 0, 1, 0, 0, 1, 0, 1, 0, 0, 0, 0, 0, 1, 1, 1, 1, 0, 0, 0, 0, 0, 0, 0, 0, 0, 0]\n"
          ]
        }
      ]
    },
    {
      "cell_type": "code",
      "source": [
        "fsh_count=0\n",
        "for i in range(0, len(fsh_pcos)):\n",
        "  if fsh_pcos[i]==y_test_list[i]:\n",
        "    fsh_count=fsh_count+1\n",
        "print(fsh_count)"
      ],
      "metadata": {
        "colab": {
          "base_uri": "https://localhost:8080/"
        },
        "id": "Lo6E9BxZ3YIP",
        "outputId": "eb86a2d0-9577-41d1-b232-048f0aae318e"
      },
      "execution_count": null,
      "outputs": [
        {
          "output_type": "stream",
          "name": "stdout",
          "text": [
            "70\n"
          ]
        }
      ]
    },
    {
      "cell_type": "code",
      "source": [],
      "metadata": {
        "id": "1O2fJzqW4Vde"
      },
      "execution_count": null,
      "outputs": []
    }
  ]
}